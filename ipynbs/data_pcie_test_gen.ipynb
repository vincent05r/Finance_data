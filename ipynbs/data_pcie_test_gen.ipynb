{
 "cells": [
  {
   "cell_type": "code",
   "execution_count": 1,
   "id": "bddb2c8d",
   "metadata": {},
   "outputs": [],
   "source": [
    "import os\n",
    "import pandas as pd\n",
    "from typing import List"
   ]
  },
  {
   "cell_type": "code",
   "execution_count": 2,
   "id": "52086182",
   "metadata": {},
   "outputs": [],
   "source": [
    "def process_csv_files(\n",
    "    csv_file_list: List[str],\n",
    "    output_dir: str,\n",
    "    test_ratio: float = 0.2,\n",
    "    drop_columns: List[str] = [],\n",
    "    date_column: str = \"date\"  # Name of the original date column\n",
    "):\n",
    "    \"\"\"\n",
    "    Processes a list of CSV files:\n",
    "    - Extracts last n% rows as test set.\n",
    "    - Drops specified columns.\n",
    "    - Renames date column to 'Datetime'.\n",
    "    - Saves the output to the given directory.\n",
    "\n",
    "    Args:\n",
    "        csv_file_list (List[str]): Paths to CSV files.\n",
    "        output_dir (str): Directory where processed files are saved.\n",
    "        test_ratio (float): Fraction of each CSV to be used as test set.\n",
    "        drop_columns (List[str]): Columns to drop.\n",
    "        date_column (str): Column to rename to 'Datetime'.\n",
    "    \"\"\"\n",
    "    os.makedirs(output_dir, exist_ok=True)\n",
    "\n",
    "    for file_path in csv_file_list:\n",
    "        # Read CSV\n",
    "        df = pd.read_csv(file_path)\n",
    "\n",
    "        # Compute split index\n",
    "        test_size = int(len(df) * test_ratio)\n",
    "        test_df = df.iloc[-test_size:].copy()\n",
    "\n",
    "        # Drop specified columns\n",
    "        test_df.drop(columns=drop_columns, inplace=True, errors='ignore')\n",
    "\n",
    "        # Rename date column to 'Datetime'\n",
    "        if date_column in test_df.columns:\n",
    "            test_df.rename(columns={date_column: 'Datetime'}, inplace=True)\n",
    "\n",
    "        # Output path\n",
    "        base_name = os.path.basename(file_path).split('.')[0]\n",
    "        output_path = os.path.join(output_dir, f\"test_{base_name}_1d.csv\")\n",
    "\n",
    "        # Save\n",
    "        test_df.to_csv(output_path, index=False)\n",
    "        print(f\"Saved: {output_path}\")\n",
    "\n"
   ]
  },
  {
   "cell_type": "code",
   "execution_count": 3,
   "id": "9930a44f",
   "metadata": {},
   "outputs": [],
   "source": [
    "def find_files_with_suffix(directory: str, suffix: str) -> List[str]:\n",
    "    \"\"\"\n",
    "    Recursively traverse the given directory to find all files ending with `suffix`.\n",
    "\n",
    "    Args:\n",
    "        directory (str): Path to the directory where the search should begin.\n",
    "        suffix (str): File suffix (e.g., \".csv\", \".txt\") to filter by.\n",
    "\n",
    "    Returns:\n",
    "        List[str]: List of full file paths that match the given suffix.\n",
    "    \"\"\"\n",
    "    matched_files = []\n",
    "    for root, dirs, files in os.walk(directory):\n",
    "        dirs.sort()   # Ensures deterministic traversal of subdirectories\n",
    "        files.sort()  # Ensures deterministic file ordering\n",
    "        for f in files:\n",
    "            if f.endswith(suffix):\n",
    "                matched_files.append(os.path.join(root, f))\n",
    "    return matched_files"
   ]
  },
  {
   "cell_type": "code",
   "execution_count": null,
   "id": "d7e525c5",
   "metadata": {},
   "outputs": [
    {
     "name": "stdout",
     "output_type": "stream",
     "text": [
      "Saved: pcie_set/EcmP_stock_L_2016_24_testffm_0.2tc\\test_AAPL_pct_1d.csv\n",
      "Saved: pcie_set/EcmP_stock_L_2016_24_testffm_0.2tc\\test_ABBV_pct_1d.csv\n",
      "Saved: pcie_set/EcmP_stock_L_2016_24_testffm_0.2tc\\test_AEP_pct_1d.csv\n",
      "Saved: pcie_set/EcmP_stock_L_2016_24_testffm_0.2tc\\test_AMGN_pct_1d.csv\n",
      "Saved: pcie_set/EcmP_stock_L_2016_24_testffm_0.2tc\\test_AMZN_pct_1d.csv\n",
      "Saved: pcie_set/EcmP_stock_L_2016_24_testffm_0.2tc\\test_BAC_pct_1d.csv\n",
      "Saved: pcie_set/EcmP_stock_L_2016_24_testffm_0.2tc\\test_BA_pct_1d.csv\n",
      "Saved: pcie_set/EcmP_stock_L_2016_24_testffm_0.2tc\\test_BCH_pct_1d.csv\n",
      "Saved: pcie_set/EcmP_stock_L_2016_24_testffm_0.2tc\\test_BHP_pct_1d.csv\n",
      "Saved: pcie_set/EcmP_stock_L_2016_24_testffm_0.2tc\\test_BP_pct_1d.csv\n",
      "Saved: pcie_set/EcmP_stock_L_2016_24_testffm_0.2tc\\test_BRK-A_pct_1d.csv\n",
      "Saved: pcie_set/EcmP_stock_L_2016_24_testffm_0.2tc\\test_BSAC_pct_1d.csv\n",
      "Saved: pcie_set/EcmP_stock_L_2016_24_testffm_0.2tc\\test_BUD_pct_1d.csv\n",
      "Saved: pcie_set/EcmP_stock_L_2016_24_testffm_0.2tc\\test_CAT_pct_1d.csv\n",
      "Saved: pcie_set/EcmP_stock_L_2016_24_testffm_0.2tc\\test_CHTR_pct_1d.csv\n",
      "Saved: pcie_set/EcmP_stock_L_2016_24_testffm_0.2tc\\test_CMCSA_pct_1d.csv\n",
      "Saved: pcie_set/EcmP_stock_L_2016_24_testffm_0.2tc\\test_CODI_pct_1d.csv\n",
      "Saved: pcie_set/EcmP_stock_L_2016_24_testffm_0.2tc\\test_CSCO_pct_1d.csv\n",
      "Saved: pcie_set/EcmP_stock_L_2016_24_testffm_0.2tc\\test_CVX_pct_1d.csv\n",
      "Saved: pcie_set/EcmP_stock_L_2016_24_testffm_0.2tc\\test_C_pct_1d.csv\n",
      "Saved: pcie_set/EcmP_stock_L_2016_24_testffm_0.2tc\\test_DHR_pct_1d.csv\n",
      "Saved: pcie_set/EcmP_stock_L_2016_24_testffm_0.2tc\\test_DIS_pct_1d.csv\n",
      "Saved: pcie_set/EcmP_stock_L_2016_24_testffm_0.2tc\\test_DUK_pct_1d.csv\n",
      "Saved: pcie_set/EcmP_stock_L_2016_24_testffm_0.2tc\\test_D_pct_1d.csv\n",
      "Saved: pcie_set/EcmP_stock_L_2016_24_testffm_0.2tc\\test_EXC_pct_1d.csv\n",
      "Saved: pcie_set/EcmP_stock_L_2016_24_testffm_0.2tc\\test_GD_pct_1d.csv\n",
      "Saved: pcie_set/EcmP_stock_L_2016_24_testffm_0.2tc\\test_GE_pct_1d.csv\n",
      "Saved: pcie_set/EcmP_stock_L_2016_24_testffm_0.2tc\\test_GOOG_pct_1d.csv\n",
      "Saved: pcie_set/EcmP_stock_L_2016_24_testffm_0.2tc\\test_HD_pct_1d.csv\n",
      "Saved: pcie_set/EcmP_stock_L_2016_24_testffm_0.2tc\\test_HON_pct_1d.csv\n",
      "Saved: pcie_set/EcmP_stock_L_2016_24_testffm_0.2tc\\test_HSBC_pct_1d.csv\n",
      "Saved: pcie_set/EcmP_stock_L_2016_24_testffm_0.2tc\\test_IEP_pct_1d.csv\n",
      "Saved: pcie_set/EcmP_stock_L_2016_24_testffm_0.2tc\\test_INTC_pct_1d.csv\n",
      "Saved: pcie_set/EcmP_stock_L_2016_24_testffm_0.2tc\\test_JNJ_pct_1d.csv\n",
      "Saved: pcie_set/EcmP_stock_L_2016_24_testffm_0.2tc\\test_JPM_pct_1d.csv\n",
      "Saved: pcie_set/EcmP_stock_L_2016_24_testffm_0.2tc\\test_KO_pct_1d.csv\n",
      "Saved: pcie_set/EcmP_stock_L_2016_24_testffm_0.2tc\\test_LMT_pct_1d.csv\n",
      "Saved: pcie_set/EcmP_stock_L_2016_24_testffm_0.2tc\\test_MA_pct_1d.csv\n",
      "Saved: pcie_set/EcmP_stock_L_2016_24_testffm_0.2tc\\test_MCD_pct_1d.csv\n",
      "Saved: pcie_set/EcmP_stock_L_2016_24_testffm_0.2tc\\test_MDT_pct_1d.csv\n",
      "Saved: pcie_set/EcmP_stock_L_2016_24_testffm_0.2tc\\test_MMM_pct_1d.csv\n",
      "Saved: pcie_set/EcmP_stock_L_2016_24_testffm_0.2tc\\test_MO_pct_1d.csv\n",
      "Saved: pcie_set/EcmP_stock_L_2016_24_testffm_0.2tc\\test_MRK_pct_1d.csv\n",
      "Saved: pcie_set/EcmP_stock_L_2016_24_testffm_0.2tc\\test_MSFT_pct_1d.csv\n",
      "Saved: pcie_set/EcmP_stock_L_2016_24_testffm_0.2tc\\test_NEE_pct_1d.csv\n",
      "Saved: pcie_set/EcmP_stock_L_2016_24_testffm_0.2tc\\test_NGG_pct_1d.csv\n",
      "Saved: pcie_set/EcmP_stock_L_2016_24_testffm_0.2tc\\test_NVS_pct_1d.csv\n",
      "Saved: pcie_set/EcmP_stock_L_2016_24_testffm_0.2tc\\test_ORCL_pct_1d.csv\n",
      "Saved: pcie_set/EcmP_stock_L_2016_24_testffm_0.2tc\\test_PCG_pct_1d.csv\n",
      "Saved: pcie_set/EcmP_stock_L_2016_24_testffm_0.2tc\\test_PEP_pct_1d.csv\n",
      "Saved: pcie_set/EcmP_stock_L_2016_24_testffm_0.2tc\\test_PFE_pct_1d.csv\n",
      "Saved: pcie_set/EcmP_stock_L_2016_24_testffm_0.2tc\\test_PG_pct_1d.csv\n",
      "Saved: pcie_set/EcmP_stock_L_2016_24_testffm_0.2tc\\test_PM_pct_1d.csv\n",
      "Saved: pcie_set/EcmP_stock_L_2016_24_testffm_0.2tc\\test_PPL_pct_1d.csv\n",
      "Saved: pcie_set/EcmP_stock_L_2016_24_testffm_0.2tc\\test_REX_pct_1d.csv\n",
      "Saved: pcie_set/EcmP_stock_L_2016_24_testffm_0.2tc\\test_SLB_pct_1d.csv\n",
      "Saved: pcie_set/EcmP_stock_L_2016_24_testffm_0.2tc\\test_SNY_pct_1d.csv\n",
      "Saved: pcie_set/EcmP_stock_L_2016_24_testffm_0.2tc\\test_SO_pct_1d.csv\n",
      "Saved: pcie_set/EcmP_stock_L_2016_24_testffm_0.2tc\\test_SPLP_pct_1d.csv\n",
      "Saved: pcie_set/EcmP_stock_L_2016_24_testffm_0.2tc\\test_SRE_pct_1d.csv\n",
      "Saved: pcie_set/EcmP_stock_L_2016_24_testffm_0.2tc\\test_TM_pct_1d.csv\n",
      "Saved: pcie_set/EcmP_stock_L_2016_24_testffm_0.2tc\\test_TSM_pct_1d.csv\n",
      "Saved: pcie_set/EcmP_stock_L_2016_24_testffm_0.2tc\\test_T_pct_1d.csv\n",
      "Saved: pcie_set/EcmP_stock_L_2016_24_testffm_0.2tc\\test_UL_pct_1d.csv\n",
      "Saved: pcie_set/EcmP_stock_L_2016_24_testffm_0.2tc\\test_UNH_pct_1d.csv\n",
      "Saved: pcie_set/EcmP_stock_L_2016_24_testffm_0.2tc\\test_UPS_pct_1d.csv\n",
      "Saved: pcie_set/EcmP_stock_L_2016_24_testffm_0.2tc\\test_VZ_pct_1d.csv\n",
      "Saved: pcie_set/EcmP_stock_L_2016_24_testffm_0.2tc\\test_V_pct_1d.csv\n",
      "Saved: pcie_set/EcmP_stock_L_2016_24_testffm_0.2tc\\test_WFC_pct_1d.csv\n",
      "Saved: pcie_set/EcmP_stock_L_2016_24_testffm_0.2tc\\test_WMT_pct_1d.csv\n",
      "Saved: pcie_set/EcmP_stock_L_2016_24_testffm_0.2tc\\test_XOM_pct_1d.csv\n"
     ]
    }
   ],
   "source": [
    "input_dir = r\"pcie_set\\EcmP_stock_L_2016_24_mix\"\n",
    "output_directory = r\"pcie_set/EcmP_stock_L_2016_24_testffm_0.2tc\"\n",
    "columns_to_drop = [\"open\", \"high\", \"low\", \"volume\", \"open_pct_change\", \"high_pct_change\", \"low_pct_change\", \"close_pct_change\"]\n",
    "date_col_name = \"date\"  # \n",
    "split_ratio = 1  # 100% test accoridng to pcie, do the actual split in ffm code\n",
    "\n",
    "csv_files = find_files_with_suffix(input_dir, suffix='.csv')\n",
    "\n",
    "process_csv_files(\n",
    "    csv_file_list=csv_files,\n",
    "    output_dir=output_directory,\n",
    "    test_ratio=split_ratio,\n",
    "    drop_columns=columns_to_drop,\n",
    "    date_column=date_col_name\n",
    ")"
   ]
  },
  {
   "cell_type": "code",
   "execution_count": 7,
   "id": "1ef25988",
   "metadata": {},
   "outputs": [
    {
     "name": "stdout",
     "output_type": "stream",
     "text": [
      "done\n"
     ]
    }
   ],
   "source": [
    "print(\"done\")"
   ]
  },
  {
   "cell_type": "markdown",
   "id": "3e4eb58e",
   "metadata": {},
   "source": [
    "## train split"
   ]
  },
  {
   "cell_type": "code",
   "execution_count": 8,
   "id": "ff0f2140",
   "metadata": {},
   "outputs": [],
   "source": [
    "def process_csv_files_train(\n",
    "    csv_file_list: List[str],\n",
    "    output_dir: str,\n",
    "    train_ratio: float = 0.7,\n",
    "    drop_columns: List[str] = [],\n",
    "    date_column: str = \"date\"  # Name of the original date column\n",
    "):\n",
    "    \"\"\"\n",
    "    Processes a list of CSV files:\n",
    "    - Extracts last n% rows as test set.\n",
    "    - Drops specified columns.\n",
    "    - Renames date column to 'Datetime'.\n",
    "    - Saves the output to the given directory.\n",
    "\n",
    "    Args:\n",
    "        csv_file_list (List[str]): Paths to CSV files.\n",
    "        output_dir (str): Directory where processed files are saved.\n",
    "        train_ratio (float): Fraction of each CSV to be used as test set.\n",
    "        drop_columns (List[str]): Columns to drop.\n",
    "        date_column (str): Column to rename to 'Datetime'.\n",
    "    \"\"\"\n",
    "    os.makedirs(output_dir, exist_ok=True)\n",
    "\n",
    "    for file_path in csv_file_list:\n",
    "        # Read CSV\n",
    "        df = pd.read_csv(file_path)\n",
    "\n",
    "        # Compute split index\n",
    "        train_size = int(len(df) * train_ratio)\n",
    "        test_df = df.iloc[:train_size].copy()\n",
    "\n",
    "        # Drop specified columns\n",
    "        test_df.drop(columns=drop_columns, inplace=True, errors='ignore')\n",
    "\n",
    "        # Rename date column to 'Datetime'\n",
    "        if date_column in test_df.columns:\n",
    "            test_df.rename(columns={date_column: 'Datetime'}, inplace=True)\n",
    "\n",
    "        # Output path\n",
    "        base_name = os.path.basename(file_path).split('.')[0]\n",
    "        output_path = os.path.join(output_dir, f\"test_{base_name}_1d.csv\")\n",
    "\n",
    "        # Save\n",
    "        test_df.to_csv(output_path, index=False)\n",
    "        print(f\"Saved: {output_path}\")"
   ]
  },
  {
   "cell_type": "code",
   "execution_count": 12,
   "id": "2366e5ef",
   "metadata": {},
   "outputs": [
    {
     "name": "stdout",
     "output_type": "stream",
     "text": [
      "Saved: pcie_set/EcmP_stock_L_2005_24_ft_0.7\\test_AAPL_pct_1d.csv\n",
      "Saved: pcie_set/EcmP_stock_L_2005_24_ft_0.7\\test_AMZN_pct_1d.csv\n",
      "Saved: pcie_set/EcmP_stock_L_2005_24_ft_0.7\\test_BA_pct_1d.csv\n",
      "Saved: pcie_set/EcmP_stock_L_2005_24_ft_0.7\\test_BP_pct_1d.csv\n",
      "Saved: pcie_set/EcmP_stock_L_2005_24_ft_0.7\\test_CAT_pct_1d.csv\n",
      "Saved: pcie_set/EcmP_stock_L_2005_24_ft_0.7\\test_GE_pct_1d.csv\n",
      "Saved: pcie_set/EcmP_stock_L_2005_24_ft_0.7\\test_GOOG_pct_1d.csv\n",
      "Saved: pcie_set/EcmP_stock_L_2005_24_ft_0.7\\test_HSBC_pct_1d.csv\n",
      "Saved: pcie_set/EcmP_stock_L_2005_24_ft_0.7\\test_INTC_pct_1d.csv\n",
      "Saved: pcie_set/EcmP_stock_L_2005_24_ft_0.7\\test_LMT_pct_1d.csv\n",
      "Saved: pcie_set/EcmP_stock_L_2005_24_ft_0.7\\test_META_pct_1d.csv\n",
      "Saved: pcie_set/EcmP_stock_L_2005_24_ft_0.7\\test_MSFT_pct_1d.csv\n",
      "Saved: pcie_set/EcmP_stock_L_2005_24_ft_0.7\\test_TSM_pct_1d.csv\n",
      "Saved: pcie_set/EcmP_stock_L_2005_24_ft_0.7\\test_UPS_pct_1d.csv\n"
     ]
    }
   ],
   "source": [
    "input_dir = r\"pcie_set\\EcmP_stock_L_2005_24\"\n",
    "output_directory = r\"pcie_set/EcmP_stock_L_2005_24_ft_0.7\"\n",
    "columns_to_drop = [\"volume\", \"open_pct_change\", \"high_pct_change\", \"low_pct_change\", \"close_pct_change\"]\n",
    "date_col_name = \"date\"  # \n",
    "split_ratio = 0.7  # 70% test accoridng to pcie\n",
    "\n",
    "csv_files = find_files_with_suffix(input_dir, suffix='.csv')\n",
    "\n",
    "process_csv_files_train(\n",
    "    csv_file_list=csv_files,\n",
    "    output_dir=output_directory,\n",
    "    train_ratio=split_ratio,\n",
    "    drop_columns=columns_to_drop,\n",
    "    date_column=date_col_name\n",
    ")"
   ]
  },
  {
   "cell_type": "code",
   "execution_count": 11,
   "id": "281fb444",
   "metadata": {},
   "outputs": [
    {
     "name": "stdout",
     "output_type": "stream",
     "text": [
      "done\n"
     ]
    }
   ],
   "source": [
    "print(\"done\")"
   ]
  },
  {
   "cell_type": "code",
   "execution_count": null,
   "id": "268c1121",
   "metadata": {},
   "outputs": [],
   "source": []
  }
 ],
 "metadata": {
  "kernelspec": {
   "display_name": "Python 3",
   "language": "python",
   "name": "python3"
  },
  "language_info": {
   "codemirror_mode": {
    "name": "ipython",
    "version": 3
   },
   "file_extension": ".py",
   "mimetype": "text/x-python",
   "name": "python",
   "nbconvert_exporter": "python",
   "pygments_lexer": "ipython3",
   "version": "3.9.18"
  }
 },
 "nbformat": 4,
 "nbformat_minor": 5
}
