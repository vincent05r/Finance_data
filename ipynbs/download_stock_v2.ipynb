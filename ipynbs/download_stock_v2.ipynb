{
 "cells": [
  {
   "cell_type": "code",
   "execution_count": 1,
   "id": "e90780c5",
   "metadata": {},
   "outputs": [],
   "source": [
    "import os\n",
    "import yfinance as yf\n",
    "import pandas as pd\n",
    "from datetime import datetime, timedelta\n",
    "from time import sleep\n",
    "\n",
    "from utils import *"
   ]
  },
  {
   "cell_type": "code",
   "execution_count": 2,
   "id": "0d86554c",
   "metadata": {},
   "outputs": [],
   "source": [
    "symbol_total_list = [r'index_consti\\constituents-nasdaq100.csv', r'index_consti\\constituents-sp500.csv', r'index_consti\\constituents-hsi.csv',\n",
    "                     r'index_consti\\constituents-csi1000.csv', r'index_consti\\constituents-dowjones.csv', r'index_consti\\constituents-ftse100.csv']"
   ]
  },
  {
   "cell_type": "code",
   "execution_count": 3,
   "id": "fce2f7b9",
   "metadata": {},
   "outputs": [
    {
     "name": "stdout",
     "output_type": "stream",
     "text": [
      "1201\n",
      "['AAPL', 'MSFT', 'NVDA', 'AMZN', 'AVGO']\n",
      "True\n"
     ]
    }
   ],
   "source": [
    "symbol_path_pool = []\n",
    "for stl_path in symbol_total_list:\n",
    "    stl_l = csv_symbol(stl_path, skip_first=True, symbol_index=0)\n",
    "    for idv_symbol in stl_l:\n",
    "        if idv_symbol not in symbol_path_pool:\n",
    "            symbol_path_pool.append(idv_symbol)\n",
    "\n",
    "print(len(symbol_path_pool))\n",
    "print(symbol_path_pool[:5])\n",
    "print(len(symbol_path_pool)==len(set(symbol_path_pool)))"
   ]
  },
  {
   "cell_type": "code",
   "execution_count": 4,
   "id": "126a76dc",
   "metadata": {},
   "outputs": [],
   "source": [
    "#config\n",
    "main_dir = '20250506_1m_inj'\n",
    "interval = ['1m']\n",
    "save_dir = main_dir\n",
    "sleep_time=2 #sleep timer\n",
    "period_interval = ['8d']\n",
    "period_1m = '8d'\n",
    "period_1h = '730d'"
   ]
  },
  {
   "cell_type": "code",
   "execution_count": 5,
   "id": "892d5154",
   "metadata": {},
   "outputs": [
    {
     "name": "stdout",
     "output_type": "stream",
     "text": [
      "Error downloading data for AAPL: Too Many Requests. Rate limited. Try after a while.\n",
      "Error downloading data for MSFT: Too Many Requests. Rate limited. Try after a while.\n",
      "Error downloading data for NVDA: Too Many Requests. Rate limited. Try after a while.\n"
     ]
    },
    {
     "ename": "KeyboardInterrupt",
     "evalue": "",
     "output_type": "error",
     "traceback": [
      "\u001b[1;31m---------------------------------------------------------------------------\u001b[0m",
      "\u001b[1;31mKeyboardInterrupt\u001b[0m                         Traceback (most recent call last)",
      "Cell \u001b[1;32mIn[5], line 4\u001b[0m\n\u001b[0;32m      2\u001b[0m \u001b[38;5;28;01mfor\u001b[39;00m index_l \u001b[38;5;129;01min\u001b[39;00m \u001b[38;5;28mrange\u001b[39m(\u001b[38;5;28mlen\u001b[39m(period_interval)): \n\u001b[0;32m      3\u001b[0m     \u001b[38;5;28;01mfor\u001b[39;00m stock_symbol \u001b[38;5;129;01min\u001b[39;00m symbol_path_pool:\n\u001b[1;32m----> 4\u001b[0m         \u001b[43mdownload_and_save_data_period\u001b[49m\u001b[43m(\u001b[49m\u001b[43mticker\u001b[49m\u001b[38;5;241;43m=\u001b[39;49m\u001b[43mstock_symbol\u001b[49m\u001b[43m,\u001b[49m\u001b[43m \u001b[49m\u001b[43minterval\u001b[49m\u001b[38;5;241;43m=\u001b[39;49m\u001b[43minterval\u001b[49m\u001b[43m[\u001b[49m\u001b[43mindex_l\u001b[49m\u001b[43m]\u001b[49m\u001b[43m,\u001b[49m\u001b[43m \u001b[49m\u001b[43mperiod\u001b[49m\u001b[38;5;241;43m=\u001b[39;49m\u001b[43mperiod_interval\u001b[49m\u001b[43m[\u001b[49m\u001b[43mindex_l\u001b[49m\u001b[43m]\u001b[49m\u001b[43m,\u001b[49m\u001b[43m \u001b[49m\u001b[43msave_dir\u001b[49m\u001b[38;5;241;43m=\u001b[39;49m\u001b[43msave_dir\u001b[49m\u001b[43m,\u001b[49m\u001b[43m \u001b[49m\u001b[43msleep_time\u001b[49m\u001b[38;5;241;43m=\u001b[39;49m\u001b[43msleep_time\u001b[49m\u001b[43m)\u001b[49m\n",
      "File \u001b[1;32mc:\\github\\Finance_data\\utils.py:62\u001b[0m, in \u001b[0;36mdownload_and_save_data_period\u001b[1;34m(ticker, interval, period, save_dir, sleep_time, drop_last, drop_NA)\u001b[0m\n\u001b[0;32m     60\u001b[0m     \u001b[38;5;28mprint\u001b[39m(\u001b[38;5;124mf\u001b[39m\u001b[38;5;124m\"\u001b[39m\u001b[38;5;124mError downloading data for \u001b[39m\u001b[38;5;132;01m{\u001b[39;00mticker\u001b[38;5;132;01m}\u001b[39;00m\u001b[38;5;124m: \u001b[39m\u001b[38;5;132;01m{\u001b[39;00me\u001b[38;5;132;01m}\u001b[39;00m\u001b[38;5;124m\"\u001b[39m)\n\u001b[0;32m     61\u001b[0m \u001b[38;5;66;03m# Sleep to respect rate limits\u001b[39;00m\n\u001b[1;32m---> 62\u001b[0m \u001b[43msleep\u001b[49m\u001b[43m(\u001b[49m\u001b[43msleep_time\u001b[49m\u001b[43m)\u001b[49m\n",
      "\u001b[1;31mKeyboardInterrupt\u001b[0m: "
     ]
    }
   ],
   "source": [
    "#1m to 1wk download\n",
    "for index_l in range(len(period_interval)): \n",
    "    for stock_symbol in symbol_path_pool:\n",
    "        download_and_save_data_period(ticker=stock_symbol, interval=interval[index_l], period=period_interval[index_l], save_dir=save_dir, sleep_time=sleep_time)"
   ]
  },
  {
   "cell_type": "code",
   "execution_count": null,
   "id": "cfad393a",
   "metadata": {},
   "outputs": [],
   "source": []
  }
 ],
 "metadata": {
  "kernelspec": {
   "display_name": "FTS_download",
   "language": "python",
   "name": "python3"
  },
  "language_info": {
   "codemirror_mode": {
    "name": "ipython",
    "version": 3
   },
   "file_extension": ".py",
   "mimetype": "text/x-python",
   "name": "python",
   "nbconvert_exporter": "python",
   "pygments_lexer": "ipython3",
   "version": "3.12.11"
  }
 },
 "nbformat": 4,
 "nbformat_minor": 5
}
