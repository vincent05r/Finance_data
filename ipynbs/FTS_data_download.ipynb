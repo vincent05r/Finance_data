{
 "cells": [
  {
   "cell_type": "code",
   "execution_count": null,
   "id": "17581e65",
   "metadata": {},
   "outputs": [],
   "source": [
    "import os\n",
    "import yfinance as yf\n",
    "import pandas as pd\n",
    "from datetime import datetime, timedelta\n",
    "from time import sleep\n",
    "\n",
    "from utils import *"
   ]
  },
  {
   "cell_type": "code",
   "execution_count": null,
   "id": "7aae8330",
   "metadata": {},
   "outputs": [],
   "source": [
    "#config\n",
    "interval = ['1m']\n",
    "save_dir =  # todo, current time, use system os time\n",
    "sleep_time=2 #sleep timer\n",
    "period_interval = ['8d']\n",
    "period_1m = '8d'\n",
    "period_1h = '730d'"
   ]
  },
  {
   "cell_type": "code",
   "execution_count": null,
   "id": "30dd821a",
   "metadata": {},
   "outputs": [],
   "source": [
    "#1m to 1wk download\n",
    "\n",
    "symbol_path_pool = csv_symbol(\"all_symbol_c.csv\")\n",
    "\n",
    "for index_l in range(len(period_interval)): \n",
    "    for stock_symbol in symbol_path_pool:\n",
    "        download_and_save_data_period(ticker=stock_symbol, interval=interval[index_l], period=period_interval[index_l], save_dir=save_dir, sleep_time=sleep_time)"
   ]
  },
  {
   "cell_type": "code",
   "execution_count": null,
   "id": "04506382",
   "metadata": {},
   "outputs": [],
   "source": []
  }
 ],
 "metadata": {
  "kernelspec": {
   "display_name": "Python 3",
   "language": "python",
   "name": "python3"
  },
  "language_info": {
   "codemirror_mode": {
    "name": "ipython",
    "version": 3
   },
   "file_extension": ".py",
   "mimetype": "text/x-python",
   "name": "python",
   "nbconvert_exporter": "python",
   "pygments_lexer": "ipython3",
   "version": "3.9.18"
  }
 },
 "nbformat": 4,
 "nbformat_minor": 5
}
