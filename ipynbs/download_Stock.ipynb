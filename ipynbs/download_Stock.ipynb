{
 "cells": [
  {
   "cell_type": "code",
   "execution_count": 1,
   "id": "07bebb76",
   "metadata": {},
   "outputs": [],
   "source": [
    "import os\n",
    "import yfinance as yf\n",
    "import pandas as pd\n",
    "from datetime import datetime, timedelta\n",
    "from time import sleep\n",
    "\n",
    "from utils import *"
   ]
  },
  {
   "cell_type": "code",
   "execution_count": 2,
   "id": "b09ec790",
   "metadata": {},
   "outputs": [],
   "source": [
    "symbol_path = None\n",
    "symbol_path_pool = [] #store all symbols that are already downloaded"
   ]
  },
  {
   "cell_type": "code",
   "execution_count": 3,
   "id": "cf121aa2",
   "metadata": {},
   "outputs": [
    {
     "name": "stdout",
     "output_type": "stream",
     "text": [
      "not in the symbol_total_list \n",
      "['index_consti\\\\constituents-nasdaq100.csv', 'index_consti\\\\constituents-sp500.csv', 'index_consti\\\\constituents-hsi.csv', 'index_consti\\\\constituents-csi1000.csv', 'index_consti\\\\constituents-dowjones.csv', 'index_consti\\\\constituents-ftse100.csv']\n",
      "1201\n"
     ]
    }
   ],
   "source": [
    "#only put in already downloaded symbol list in here\n",
    "symbol_total_list = [r'index_consti\\constituents-nasdaq100.csv', r'index_consti\\constituents-sp500.csv', r'index_consti\\constituents-hsi.csv',\n",
    "                     r'index_consti\\constituents-csi1000.csv', r'index_consti\\constituents-dowjones.csv', r'index_consti\\constituents-ftse100.csv']\n",
    "try:\n",
    "    symbol_total_list.remove(symbol_path)\n",
    "except ValueError:\n",
    "    print(\"not in the symbol_total_list \")\n",
    "print(symbol_total_list)\n",
    "\n",
    "\n",
    "for stl_path in symbol_total_list:\n",
    "    stl_l = csv_symbol(stl_path, skip_first=True, symbol_index=0)\n",
    "    for idv_symbol in stl_l:\n",
    "        if idv_symbol not in symbol_path_pool:\n",
    "            symbol_path_pool.append(idv_symbol)\n",
    "\n",
    "print(len(symbol_path_pool))"
   ]
  },
  {
   "cell_type": "code",
   "execution_count": 4,
   "id": "4fb4205e",
   "metadata": {},
   "outputs": [
    {
     "ename": "TypeError",
     "evalue": "expected str, bytes or os.PathLike object, not NoneType",
     "output_type": "error",
     "traceback": [
      "\u001b[1;31m---------------------------------------------------------------------------\u001b[0m",
      "\u001b[1;31mTypeError\u001b[0m                                 Traceback (most recent call last)",
      "Cell \u001b[1;32mIn[4], line 2\u001b[0m\n\u001b[0;32m      1\u001b[0m symbol_list \u001b[38;5;241m=\u001b[39m []\n\u001b[1;32m----> 2\u001b[0m temp_symbol_list \u001b[38;5;241m=\u001b[39m \u001b[43mcsv_symbol\u001b[49m\u001b[43m(\u001b[49m\u001b[43msymbol_path\u001b[49m\u001b[43m,\u001b[49m\u001b[43m \u001b[49m\u001b[43mskip_first\u001b[49m\u001b[38;5;241;43m=\u001b[39;49m\u001b[38;5;28;43;01mTrue\u001b[39;49;00m\u001b[43m,\u001b[49m\u001b[43m \u001b[49m\u001b[43msymbol_index\u001b[49m\u001b[38;5;241;43m=\u001b[39;49m\u001b[38;5;241;43m0\u001b[39;49m\u001b[43m)\u001b[49m\n\u001b[0;32m      3\u001b[0m \u001b[38;5;28;01mfor\u001b[39;00m cur_symbol \u001b[38;5;129;01min\u001b[39;00m temp_symbol_list:\n\u001b[0;32m      4\u001b[0m     \u001b[38;5;28;01mif\u001b[39;00m cur_symbol \u001b[38;5;129;01mnot\u001b[39;00m \u001b[38;5;129;01min\u001b[39;00m symbol_path_pool:\n",
      "File \u001b[1;32mc:\\github\\Finance_data\\utils.py:66\u001b[0m, in \u001b[0;36mcsv_symbol\u001b[1;34m(csv_path, skip_first, symbol_index)\u001b[0m\n\u001b[0;32m     65\u001b[0m \u001b[38;5;28;01mdef\u001b[39;00m \u001b[38;5;21mcsv_symbol\u001b[39m(csv_path: \u001b[38;5;28mstr\u001b[39m, skip_first: \u001b[38;5;28mbool\u001b[39m \u001b[38;5;241m=\u001b[39m \u001b[38;5;28;01mTrue\u001b[39;00m, symbol_index: \u001b[38;5;28mint\u001b[39m \u001b[38;5;241m=\u001b[39m \u001b[38;5;241m0\u001b[39m):\n\u001b[1;32m---> 66\u001b[0m     \u001b[38;5;28;01mwith\u001b[39;00m \u001b[38;5;28;43mopen\u001b[39;49m\u001b[43m(\u001b[49m\u001b[43mcsv_path\u001b[49m\u001b[43m,\u001b[49m\u001b[43m \u001b[49m\u001b[43mmode\u001b[49m\u001b[38;5;241;43m=\u001b[39;49m\u001b[38;5;124;43m'\u001b[39;49m\u001b[38;5;124;43mr\u001b[39;49m\u001b[38;5;124;43m'\u001b[39;49m\u001b[43m,\u001b[49m\u001b[43m \u001b[49m\u001b[43mnewline\u001b[49m\u001b[38;5;241;43m=\u001b[39;49m\u001b[38;5;124;43m'\u001b[39;49m\u001b[38;5;124;43m'\u001b[39;49m\u001b[43m)\u001b[49m \u001b[38;5;28;01mas\u001b[39;00m file:\n\u001b[0;32m     67\u001b[0m         reader \u001b[38;5;241m=\u001b[39m csv\u001b[38;5;241m.\u001b[39mreader(file, delimiter\u001b[38;5;241m=\u001b[39m\u001b[38;5;124m'\u001b[39m\u001b[38;5;124m,\u001b[39m\u001b[38;5;124m'\u001b[39m)\n\u001b[0;32m     68\u001b[0m         \u001b[38;5;28;01mif\u001b[39;00m skip_first:\n",
      "\u001b[1;31mTypeError\u001b[0m: expected str, bytes or os.PathLike object, not NoneType"
     ]
    }
   ],
   "source": [
    "symbol_list = []\n",
    "temp_symbol_list = csv_symbol(symbol_path, skip_first=True, symbol_index=0)\n",
    "for cur_symbol in temp_symbol_list:\n",
    "    if cur_symbol not in symbol_path_pool:\n",
    "        symbol_list.append(cur_symbol)\n",
    "print(symbol_list)\n",
    "print(len(symbol_list))"
   ]
  },
  {
   "cell_type": "code",
   "execution_count": 5,
   "id": "78c9e78e",
   "metadata": {},
   "outputs": [],
   "source": [
    "#config\n",
    "main_dir = 'stock_datasets'\n",
    "interval = ['1m', '1h', '1d', '1wk']\n",
    "list_dir = 'ftse100'\n",
    "save_dir = os.path.join(main_dir, list_dir)\n",
    "#date : \"format '%Y-%m-%d'\"\n",
    "# start_date='2022-03-15'\n",
    "# end_date='2024-04-05'\n",
    "sleep_time=2 #sleep timer\n",
    "period_interval = ['8d', '730d', 'max', 'max']\n",
    "period_1m = '8d'\n",
    "period_1h = '730d'"
   ]
  },
  {
   "cell_type": "code",
   "execution_count": 6,
   "id": "1b1083ce",
   "metadata": {},
   "outputs": [
    {
     "name": "stdout",
     "output_type": "stream",
     "text": [
      "Data for AAF.L saved successfully.\n",
      "Data for AAL.L saved successfully.\n",
      "Data for ABF.L saved successfully.\n",
      "Data for ADM.L saved successfully.\n",
      "Data for AHT.L saved successfully.\n",
      "Data for ALW.L saved successfully.\n",
      "Data for ANTO.L saved successfully.\n",
      "Data for AUTO.L saved successfully.\n"
     ]
    },
    {
     "name": "stderr",
     "output_type": "stream",
     "text": [
      "Failed to get ticker 'AV/.L' reason: Expecting value: line 1 column 1 (char 0)\n",
      "500 Server Error: No valid server. for url: https://query2.finance.yahoo.com/v10/finance/quoteSummary/AV/.L?modules=financialData%2CquoteType%2CdefaultKeyStatistics%2CassetProfile%2CsummaryDetail&corsDomain=finance.yahoo.com&formatted=false&symbol=AV%2F.L&crumb=dVTB0FdFyKG\n"
     ]
    },
    {
     "name": "stdout",
     "output_type": "stream",
     "text": [
      "Error downloading data for AV/.L: 'NoneType' object has no attribute 'update'\n",
      "Data for AZN.L saved successfully.\n"
     ]
    },
    {
     "name": "stderr",
     "output_type": "stream",
     "text": [
      "Failed to get ticker 'BA/.L' reason: Expecting value: line 1 column 1 (char 0)\n",
      "500 Server Error: No valid server. for url: https://query2.finance.yahoo.com/v10/finance/quoteSummary/BA/.L?modules=financialData%2CquoteType%2CdefaultKeyStatistics%2CassetProfile%2CsummaryDetail&corsDomain=finance.yahoo.com&formatted=false&symbol=BA%2F.L&crumb=dVTB0FdFyKG\n"
     ]
    },
    {
     "name": "stdout",
     "output_type": "stream",
     "text": [
      "Error downloading data for BA/.L: 'NoneType' object has no attribute 'update'\n",
      "Data for BAB.L saved successfully.\n",
      "Data for BARC.L saved successfully.\n",
      "Data for BATS.L saved successfully.\n",
      "Data for BEZ.L saved successfully.\n",
      "Data for BKG.L saved successfully.\n",
      "Data for BNZL.L saved successfully.\n"
     ]
    },
    {
     "name": "stderr",
     "output_type": "stream",
     "text": [
      "Failed to get ticker 'BP/.L' reason: Expecting value: line 1 column 1 (char 0)\n",
      "$BP/.L: possibly delisted; no price data found  (period=8d)\n"
     ]
    },
    {
     "name": "stdout",
     "output_type": "stream",
     "text": [
      "No data found for BP/.L.\n"
     ]
    },
    {
     "name": "stderr",
     "output_type": "stream",
     "text": [
      "Failed to get ticker 'BT/A.L' reason: Expecting value: line 1 column 1 (char 0)\n",
      "$BT/A.L: possibly delisted; no price data found  (period=8d)\n"
     ]
    },
    {
     "name": "stdout",
     "output_type": "stream",
     "text": [
      "No data found for BT/A.L.\n",
      "Data for BTRW.L saved successfully.\n",
      "Data for CCEP.L saved successfully.\n",
      "Data for CCH.L saved successfully.\n",
      "Data for CNA.L saved successfully.\n",
      "Data for CPG.L saved successfully.\n",
      "Data for CRDA.L saved successfully.\n",
      "Data for CTEC.L saved successfully.\n",
      "Data for DCC.L saved successfully.\n",
      "Data for DGE.L saved successfully.\n",
      "Data for DPLM.L saved successfully.\n",
      "Data for EDV.L saved successfully.\n",
      "Data for ENT.L saved successfully.\n",
      "Data for EXPN.L saved successfully.\n",
      "Data for EZJ.L saved successfully.\n",
      "Data for FCIT.L saved successfully.\n",
      "Data for FRES.L saved successfully.\n",
      "Data for GAW.L saved successfully.\n",
      "Data for GLEN.L saved successfully.\n",
      "Data for GSK.L saved successfully.\n",
      "Data for HIK.L saved successfully.\n",
      "Data for HLMA.L saved successfully.\n",
      "Data for HLN.L saved successfully.\n",
      "Data for HSBA.L saved successfully.\n",
      "Data for HSX.L saved successfully.\n",
      "Data for HWDN.L saved successfully.\n",
      "Data for IAG.L saved successfully.\n",
      "Data for ICG.L saved successfully.\n",
      "Data for IHG.L saved successfully.\n",
      "Data for III.L saved successfully.\n",
      "Data for IMB.L saved successfully.\n",
      "Data for IMI.L saved successfully.\n",
      "Data for INF.L saved successfully.\n",
      "Data for ITRK.L saved successfully.\n"
     ]
    },
    {
     "name": "stderr",
     "output_type": "stream",
     "text": [
      "Failed to get ticker 'JD/.L' reason: Expecting value: line 1 column 1 (char 0)\n",
      "$JD/.L: possibly delisted; no price data found  (period=8d)\n"
     ]
    },
    {
     "name": "stdout",
     "output_type": "stream",
     "text": [
      "No data found for JD/.L.\n",
      "Data for KGF.L saved successfully.\n",
      "Data for LAND.L saved successfully.\n",
      "Data for LGEN.L saved successfully.\n",
      "Data for LLOY.L saved successfully.\n",
      "Data for LMP.L saved successfully.\n",
      "Data for LSEG.L saved successfully.\n",
      "Data for MKS.L saved successfully.\n",
      "Data for MNDI.L saved successfully.\n",
      "Data for MNG.L saved successfully.\n",
      "Data for MRO.L saved successfully.\n"
     ]
    },
    {
     "name": "stderr",
     "output_type": "stream",
     "text": [
      "Failed to get ticker 'NG/.L' reason: Expecting value: line 1 column 1 (char 0)\n",
      "$NG/.L: possibly delisted; no price data found  (period=8d)\n"
     ]
    },
    {
     "name": "stdout",
     "output_type": "stream",
     "text": [
      "No data found for NG/.L.\n",
      "Data for NWG.L saved successfully.\n",
      "Data for NXT.L saved successfully.\n",
      "Data for PCT.L saved successfully.\n",
      "Data for PHNX.L saved successfully.\n",
      "Data for PRU.L saved successfully.\n",
      "Data for PSH.L saved successfully.\n",
      "Data for PSN.L saved successfully.\n",
      "Data for PSON.L saved successfully.\n",
      "Data for REL.L saved successfully.\n",
      "Data for RIO.L saved successfully.\n",
      "Data for RKT.L saved successfully.\n",
      "Data for RMV.L saved successfully.\n"
     ]
    },
    {
     "name": "stderr",
     "output_type": "stream",
     "text": [
      "Failed to get ticker 'RR/.L' reason: Expecting value: line 1 column 1 (char 0)\n",
      "$RR/.L: possibly delisted; no price data found  (period=8d)\n"
     ]
    },
    {
     "name": "stdout",
     "output_type": "stream",
     "text": [
      "No data found for RR/.L.\n",
      "Data for RTO.L saved successfully.\n",
      "Data for SBRY.L saved successfully.\n",
      "Data for SDR.L saved successfully.\n",
      "Data for SGE.L saved successfully.\n",
      "Data for SGRO.L saved successfully.\n",
      "Data for SHEL.L saved successfully.\n",
      "Data for SMIN.L saved successfully.\n",
      "Data for SMT.L saved successfully.\n"
     ]
    },
    {
     "name": "stderr",
     "output_type": "stream",
     "text": [
      "Failed to get ticker 'SN/.L' reason: Expecting value: line 1 column 1 (char 0)\n",
      "$SN/.L: possibly delisted; no price data found  (period=8d)\n"
     ]
    },
    {
     "name": "stdout",
     "output_type": "stream",
     "text": [
      "No data found for SN/.L.\n",
      "Data for SPX.L saved successfully.\n",
      "Data for SSE.L saved successfully.\n",
      "Data for STAN.L saved successfully.\n",
      "Data for STJ.L saved successfully.\n",
      "Data for SVT.L saved successfully.\n",
      "Data for TSCO.L saved successfully.\n"
     ]
    },
    {
     "name": "stderr",
     "output_type": "stream",
     "text": [
      "Failed to get ticker 'TW/.L' reason: Expecting value: line 1 column 1 (char 0)\n",
      "$TW/.L: possibly delisted; no price data found  (period=8d)\n"
     ]
    },
    {
     "name": "stdout",
     "output_type": "stream",
     "text": [
      "No data found for TW/.L.\n",
      "Data for ULVR.L saved successfully.\n",
      "Data for UTG.L saved successfully.\n"
     ]
    },
    {
     "name": "stderr",
     "output_type": "stream",
     "text": [
      "Failed to get ticker 'UU/.L' reason: Expecting value: line 1 column 1 (char 0)\n",
      "$UU/.L: possibly delisted; no price data found  (period=8d)\n"
     ]
    },
    {
     "name": "stdout",
     "output_type": "stream",
     "text": [
      "No data found for UU/.L.\n",
      "Data for VOD.L saved successfully.\n",
      "Data for WEIR.L saved successfully.\n",
      "Data for WPP.L saved successfully.\n",
      "Data for WTB.L saved successfully.\n",
      "Data for AAF.L saved successfully.\n",
      "Data for AAL.L saved successfully.\n",
      "Data for ABF.L saved successfully.\n",
      "Data for ADM.L saved successfully.\n",
      "Data for AHT.L saved successfully.\n",
      "Data for ALW.L saved successfully.\n",
      "Data for ANTO.L saved successfully.\n",
      "Data for AUTO.L saved successfully.\n"
     ]
    },
    {
     "name": "stderr",
     "output_type": "stream",
     "text": [
      "Failed to get ticker 'AV/.L' reason: Expecting value: line 1 column 1 (char 0)\n",
      "$AV/.L: possibly delisted; no price data found  (period=730d)\n"
     ]
    },
    {
     "name": "stdout",
     "output_type": "stream",
     "text": [
      "No data found for AV/.L.\n",
      "Data for AZN.L saved successfully.\n"
     ]
    },
    {
     "name": "stderr",
     "output_type": "stream",
     "text": [
      "Failed to get ticker 'BA/.L' reason: Expecting value: line 1 column 1 (char 0)\n",
      "$BA/.L: possibly delisted; no price data found  (period=730d)\n"
     ]
    },
    {
     "name": "stdout",
     "output_type": "stream",
     "text": [
      "No data found for BA/.L.\n",
      "Data for BAB.L saved successfully.\n",
      "Data for BARC.L saved successfully.\n",
      "Data for BATS.L saved successfully.\n",
      "Data for BEZ.L saved successfully.\n",
      "Data for BKG.L saved successfully.\n",
      "Data for BNZL.L saved successfully.\n"
     ]
    },
    {
     "name": "stderr",
     "output_type": "stream",
     "text": [
      "Failed to get ticker 'BP/.L' reason: Expecting value: line 1 column 1 (char 0)\n",
      "$BP/.L: possibly delisted; no price data found  (period=730d)\n"
     ]
    },
    {
     "name": "stdout",
     "output_type": "stream",
     "text": [
      "No data found for BP/.L.\n"
     ]
    },
    {
     "name": "stderr",
     "output_type": "stream",
     "text": [
      "Failed to get ticker 'BT/A.L' reason: Expecting value: line 1 column 1 (char 0)\n",
      "$BT/A.L: possibly delisted; no price data found  (period=730d)\n"
     ]
    },
    {
     "name": "stdout",
     "output_type": "stream",
     "text": [
      "No data found for BT/A.L.\n",
      "Data for BTRW.L saved successfully.\n",
      "Data for CCEP.L saved successfully.\n",
      "Data for CCH.L saved successfully.\n",
      "Data for CNA.L saved successfully.\n",
      "Data for CPG.L saved successfully.\n",
      "Data for CRDA.L saved successfully.\n",
      "Data for CTEC.L saved successfully.\n",
      "Data for DCC.L saved successfully.\n",
      "Data for DGE.L saved successfully.\n",
      "Data for DPLM.L saved successfully.\n",
      "Data for EDV.L saved successfully.\n",
      "Data for ENT.L saved successfully.\n",
      "Data for EXPN.L saved successfully.\n",
      "Data for EZJ.L saved successfully.\n",
      "Data for FCIT.L saved successfully.\n",
      "Data for FRES.L saved successfully.\n",
      "Data for GAW.L saved successfully.\n",
      "Data for GLEN.L saved successfully.\n",
      "Data for GSK.L saved successfully.\n",
      "Data for HIK.L saved successfully.\n",
      "Data for HLMA.L saved successfully.\n"
     ]
    },
    {
     "name": "stderr",
     "output_type": "stream",
     "text": [
      "$HLN.L: possibly delisted; no price data found  (period=730d) (Yahoo error = \"1h data not available for startTime=1658127600 and endTime=1744243482. The requested range must be within the last 730 days.\")\n"
     ]
    },
    {
     "name": "stdout",
     "output_type": "stream",
     "text": [
      "No data found for HLN.L.\n",
      "Data for HSBA.L saved successfully.\n",
      "Data for HSX.L saved successfully.\n",
      "Data for HWDN.L saved successfully.\n",
      "Data for IAG.L saved successfully.\n",
      "Data for ICG.L saved successfully.\n",
      "Data for IHG.L saved successfully.\n",
      "Data for III.L saved successfully.\n",
      "Data for IMB.L saved successfully.\n",
      "Data for IMI.L saved successfully.\n",
      "Data for INF.L saved successfully.\n",
      "Data for ITRK.L saved successfully.\n"
     ]
    },
    {
     "name": "stderr",
     "output_type": "stream",
     "text": [
      "Failed to get ticker 'JD/.L' reason: Expecting value: line 1 column 1 (char 0)\n",
      "$JD/.L: possibly delisted; no price data found  (period=730d)\n"
     ]
    },
    {
     "name": "stdout",
     "output_type": "stream",
     "text": [
      "No data found for JD/.L.\n",
      "Data for KGF.L saved successfully.\n",
      "Data for LAND.L saved successfully.\n",
      "Data for LGEN.L saved successfully.\n",
      "Data for LLOY.L saved successfully.\n",
      "Data for LMP.L saved successfully.\n",
      "Data for LSEG.L saved successfully.\n",
      "Data for MKS.L saved successfully.\n",
      "Data for MNDI.L saved successfully.\n",
      "Data for MNG.L saved successfully.\n",
      "Data for MRO.L saved successfully.\n"
     ]
    },
    {
     "name": "stderr",
     "output_type": "stream",
     "text": [
      "Failed to get ticker 'NG/.L' reason: Expecting value: line 1 column 1 (char 0)\n",
      "$NG/.L: possibly delisted; no price data found  (period=730d)\n"
     ]
    },
    {
     "name": "stdout",
     "output_type": "stream",
     "text": [
      "No data found for NG/.L.\n",
      "Data for NWG.L saved successfully.\n",
      "Data for NXT.L saved successfully.\n",
      "Data for PCT.L saved successfully.\n",
      "Data for PHNX.L saved successfully.\n",
      "Data for PRU.L saved successfully.\n",
      "Data for PSH.L saved successfully.\n",
      "Data for PSN.L saved successfully.\n",
      "Data for PSON.L saved successfully.\n",
      "Data for REL.L saved successfully.\n",
      "Data for RIO.L saved successfully.\n",
      "Data for RKT.L saved successfully.\n",
      "Data for RMV.L saved successfully.\n"
     ]
    },
    {
     "name": "stderr",
     "output_type": "stream",
     "text": [
      "Failed to get ticker 'RR/.L' reason: Expecting value: line 1 column 1 (char 0)\n",
      "$RR/.L: possibly delisted; no price data found  (period=730d)\n"
     ]
    },
    {
     "name": "stdout",
     "output_type": "stream",
     "text": [
      "No data found for RR/.L.\n",
      "Data for RTO.L saved successfully.\n",
      "Data for SBRY.L saved successfully.\n",
      "Data for SDR.L saved successfully.\n",
      "Data for SGE.L saved successfully.\n",
      "Data for SGRO.L saved successfully.\n",
      "Data for SHEL.L saved successfully.\n",
      "Data for SMIN.L saved successfully.\n",
      "Data for SMT.L saved successfully.\n"
     ]
    },
    {
     "name": "stderr",
     "output_type": "stream",
     "text": [
      "Failed to get ticker 'SN/.L' reason: Expecting value: line 1 column 1 (char 0)\n",
      "$SN/.L: possibly delisted; no price data found  (period=730d)\n"
     ]
    },
    {
     "name": "stdout",
     "output_type": "stream",
     "text": [
      "No data found for SN/.L.\n",
      "Data for SPX.L saved successfully.\n",
      "Data for SSE.L saved successfully.\n",
      "Data for STAN.L saved successfully.\n",
      "Data for STJ.L saved successfully.\n",
      "Data for SVT.L saved successfully.\n",
      "Data for TSCO.L saved successfully.\n"
     ]
    },
    {
     "name": "stderr",
     "output_type": "stream",
     "text": [
      "Failed to get ticker 'TW/.L' reason: Expecting value: line 1 column 1 (char 0)\n",
      "$TW/.L: possibly delisted; no price data found  (period=730d)\n"
     ]
    },
    {
     "name": "stdout",
     "output_type": "stream",
     "text": [
      "No data found for TW/.L.\n",
      "Data for ULVR.L saved successfully.\n",
      "Data for UTG.L saved successfully.\n"
     ]
    },
    {
     "name": "stderr",
     "output_type": "stream",
     "text": [
      "Failed to get ticker 'UU/.L' reason: Expecting value: line 1 column 1 (char 0)\n",
      "$UU/.L: possibly delisted; no price data found  (period=730d)\n"
     ]
    },
    {
     "name": "stdout",
     "output_type": "stream",
     "text": [
      "No data found for UU/.L.\n",
      "Data for VOD.L saved successfully.\n",
      "Data for WEIR.L saved successfully.\n",
      "Data for WPP.L saved successfully.\n",
      "Data for WTB.L saved successfully.\n",
      "Data for AAF.L saved successfully.\n",
      "Data for AAL.L saved successfully.\n",
      "Data for ABF.L saved successfully.\n",
      "Data for ADM.L saved successfully.\n",
      "Data for AHT.L saved successfully.\n",
      "Data for ALW.L saved successfully.\n",
      "Data for ANTO.L saved successfully.\n",
      "Data for AUTO.L saved successfully.\n"
     ]
    },
    {
     "name": "stderr",
     "output_type": "stream",
     "text": [
      "Failed to get ticker 'AV/.L' reason: Expecting value: line 1 column 1 (char 0)\n",
      "$AV/.L: possibly delisted; no timezone found\n"
     ]
    },
    {
     "name": "stdout",
     "output_type": "stream",
     "text": [
      "No data found for AV/.L.\n",
      "Data for AZN.L saved successfully.\n"
     ]
    },
    {
     "name": "stderr",
     "output_type": "stream",
     "text": [
      "Failed to get ticker 'BA/.L' reason: Expecting value: line 1 column 1 (char 0)\n",
      "$BA/.L: possibly delisted; no timezone found\n"
     ]
    },
    {
     "name": "stdout",
     "output_type": "stream",
     "text": [
      "No data found for BA/.L.\n",
      "Data for BAB.L saved successfully.\n",
      "Data for BARC.L saved successfully.\n",
      "Data for BATS.L saved successfully.\n",
      "Data for BEZ.L saved successfully.\n",
      "Data for BKG.L saved successfully.\n",
      "Data for BNZL.L saved successfully.\n"
     ]
    },
    {
     "name": "stderr",
     "output_type": "stream",
     "text": [
      "Failed to get ticker 'BP/.L' reason: Expecting value: line 1 column 1 (char 0)\n",
      "$BP/.L: possibly delisted; no timezone found\n"
     ]
    },
    {
     "name": "stdout",
     "output_type": "stream",
     "text": [
      "No data found for BP/.L.\n"
     ]
    },
    {
     "name": "stderr",
     "output_type": "stream",
     "text": [
      "Failed to get ticker 'BT/A.L' reason: Expecting value: line 1 column 1 (char 0)\n",
      "$BT/A.L: possibly delisted; no timezone found\n"
     ]
    },
    {
     "name": "stdout",
     "output_type": "stream",
     "text": [
      "No data found for BT/A.L.\n",
      "Data for BTRW.L saved successfully.\n",
      "Data for CCEP.L saved successfully.\n",
      "Data for CCH.L saved successfully.\n",
      "Data for CNA.L saved successfully.\n",
      "Data for CPG.L saved successfully.\n",
      "Data for CRDA.L saved successfully.\n",
      "Data for CTEC.L saved successfully.\n",
      "Data for DCC.L saved successfully.\n",
      "Data for DGE.L saved successfully.\n",
      "Data for DPLM.L saved successfully.\n",
      "Data for EDV.L saved successfully.\n",
      "Data for ENT.L saved successfully.\n",
      "Data for EXPN.L saved successfully.\n",
      "Data for EZJ.L saved successfully.\n",
      "Data for FCIT.L saved successfully.\n",
      "Data for FRES.L saved successfully.\n",
      "Data for GAW.L saved successfully.\n",
      "Data for GLEN.L saved successfully.\n",
      "Data for GSK.L saved successfully.\n",
      "Data for HIK.L saved successfully.\n",
      "Data for HLMA.L saved successfully.\n",
      "Data for HLN.L saved successfully.\n",
      "Data for HSBA.L saved successfully.\n",
      "Data for HSX.L saved successfully.\n",
      "Data for HWDN.L saved successfully.\n",
      "Data for IAG.L saved successfully.\n",
      "Data for ICG.L saved successfully.\n",
      "Data for IHG.L saved successfully.\n",
      "Data for III.L saved successfully.\n",
      "Data for IMB.L saved successfully.\n",
      "Data for IMI.L saved successfully.\n",
      "Data for INF.L saved successfully.\n",
      "Data for ITRK.L saved successfully.\n"
     ]
    },
    {
     "name": "stderr",
     "output_type": "stream",
     "text": [
      "Failed to get ticker 'JD/.L' reason: Expecting value: line 1 column 1 (char 0)\n",
      "$JD/.L: possibly delisted; no timezone found\n"
     ]
    },
    {
     "name": "stdout",
     "output_type": "stream",
     "text": [
      "No data found for JD/.L.\n",
      "Data for KGF.L saved successfully.\n",
      "Data for LAND.L saved successfully.\n",
      "Data for LGEN.L saved successfully.\n",
      "Data for LLOY.L saved successfully.\n",
      "Data for LMP.L saved successfully.\n",
      "Data for LSEG.L saved successfully.\n",
      "Data for MKS.L saved successfully.\n",
      "Data for MNDI.L saved successfully.\n",
      "Data for MNG.L saved successfully.\n",
      "Data for MRO.L saved successfully.\n"
     ]
    },
    {
     "name": "stderr",
     "output_type": "stream",
     "text": [
      "Failed to get ticker 'NG/.L' reason: Expecting value: line 1 column 1 (char 0)\n",
      "$NG/.L: possibly delisted; no timezone found\n"
     ]
    },
    {
     "name": "stdout",
     "output_type": "stream",
     "text": [
      "No data found for NG/.L.\n",
      "Data for NWG.L saved successfully.\n",
      "Data for NXT.L saved successfully.\n",
      "Data for PCT.L saved successfully.\n",
      "Data for PHNX.L saved successfully.\n",
      "Data for PRU.L saved successfully.\n",
      "Data for PSH.L saved successfully.\n",
      "Data for PSN.L saved successfully.\n",
      "Data for PSON.L saved successfully.\n",
      "Data for REL.L saved successfully.\n",
      "Data for RIO.L saved successfully.\n",
      "Data for RKT.L saved successfully.\n",
      "Data for RMV.L saved successfully.\n"
     ]
    },
    {
     "name": "stderr",
     "output_type": "stream",
     "text": [
      "Failed to get ticker 'RR/.L' reason: Expecting value: line 1 column 1 (char 0)\n",
      "$RR/.L: possibly delisted; no timezone found\n"
     ]
    },
    {
     "name": "stdout",
     "output_type": "stream",
     "text": [
      "No data found for RR/.L.\n",
      "Data for RTO.L saved successfully.\n",
      "Data for SBRY.L saved successfully.\n",
      "Data for SDR.L saved successfully.\n",
      "Data for SGE.L saved successfully.\n",
      "Data for SGRO.L saved successfully.\n",
      "Data for SHEL.L saved successfully.\n",
      "Data for SMIN.L saved successfully.\n",
      "Data for SMT.L saved successfully.\n"
     ]
    },
    {
     "name": "stderr",
     "output_type": "stream",
     "text": [
      "Failed to get ticker 'SN/.L' reason: Expecting value: line 1 column 1 (char 0)\n",
      "$SN/.L: possibly delisted; no timezone found\n"
     ]
    },
    {
     "name": "stdout",
     "output_type": "stream",
     "text": [
      "No data found for SN/.L.\n",
      "Data for SPX.L saved successfully.\n",
      "Data for SSE.L saved successfully.\n",
      "Data for STAN.L saved successfully.\n",
      "Data for STJ.L saved successfully.\n",
      "Data for SVT.L saved successfully.\n",
      "Data for TSCO.L saved successfully.\n"
     ]
    },
    {
     "name": "stderr",
     "output_type": "stream",
     "text": [
      "Failed to get ticker 'TW/.L' reason: Expecting value: line 1 column 1 (char 0)\n",
      "$TW/.L: possibly delisted; no timezone found\n"
     ]
    },
    {
     "name": "stdout",
     "output_type": "stream",
     "text": [
      "No data found for TW/.L.\n",
      "Data for ULVR.L saved successfully.\n",
      "Data for UTG.L saved successfully.\n"
     ]
    },
    {
     "name": "stderr",
     "output_type": "stream",
     "text": [
      "Failed to get ticker 'UU/.L' reason: Expecting value: line 1 column 1 (char 0)\n",
      "$UU/.L: possibly delisted; no timezone found\n"
     ]
    },
    {
     "name": "stdout",
     "output_type": "stream",
     "text": [
      "No data found for UU/.L.\n",
      "Data for VOD.L saved successfully.\n",
      "Data for WEIR.L saved successfully.\n",
      "Data for WPP.L saved successfully.\n",
      "Data for WTB.L saved successfully.\n",
      "Data for AAF.L saved successfully.\n",
      "Data for AAL.L saved successfully.\n",
      "Data for ABF.L saved successfully.\n",
      "Data for ADM.L saved successfully.\n",
      "Data for AHT.L saved successfully.\n",
      "Data for ALW.L saved successfully.\n",
      "Data for ANTO.L saved successfully.\n",
      "Data for AUTO.L saved successfully.\n"
     ]
    },
    {
     "name": "stderr",
     "output_type": "stream",
     "text": [
      "Failed to get ticker 'AV/.L' reason: Expecting value: line 1 column 1 (char 0)\n",
      "$AV/.L: possibly delisted; no timezone found\n"
     ]
    },
    {
     "name": "stdout",
     "output_type": "stream",
     "text": [
      "No data found for AV/.L.\n",
      "Data for AZN.L saved successfully.\n"
     ]
    },
    {
     "name": "stderr",
     "output_type": "stream",
     "text": [
      "Failed to get ticker 'BA/.L' reason: Expecting value: line 1 column 1 (char 0)\n",
      "$BA/.L: possibly delisted; no timezone found\n"
     ]
    },
    {
     "name": "stdout",
     "output_type": "stream",
     "text": [
      "No data found for BA/.L.\n",
      "Data for BAB.L saved successfully.\n",
      "Data for BARC.L saved successfully.\n",
      "Data for BATS.L saved successfully.\n",
      "Data for BEZ.L saved successfully.\n",
      "Data for BKG.L saved successfully.\n",
      "Data for BNZL.L saved successfully.\n"
     ]
    },
    {
     "name": "stderr",
     "output_type": "stream",
     "text": [
      "Failed to get ticker 'BP/.L' reason: Expecting value: line 1 column 1 (char 0)\n",
      "$BP/.L: possibly delisted; no timezone found\n"
     ]
    },
    {
     "name": "stdout",
     "output_type": "stream",
     "text": [
      "No data found for BP/.L.\n"
     ]
    },
    {
     "name": "stderr",
     "output_type": "stream",
     "text": [
      "Failed to get ticker 'BT/A.L' reason: Expecting value: line 1 column 1 (char 0)\n",
      "$BT/A.L: possibly delisted; no timezone found\n"
     ]
    },
    {
     "name": "stdout",
     "output_type": "stream",
     "text": [
      "No data found for BT/A.L.\n",
      "Data for BTRW.L saved successfully.\n",
      "Data for CCEP.L saved successfully.\n",
      "Data for CCH.L saved successfully.\n",
      "Data for CNA.L saved successfully.\n",
      "Data for CPG.L saved successfully.\n",
      "Data for CRDA.L saved successfully.\n",
      "Data for CTEC.L saved successfully.\n",
      "Data for DCC.L saved successfully.\n",
      "Data for DGE.L saved successfully.\n",
      "Data for DPLM.L saved successfully.\n",
      "Data for EDV.L saved successfully.\n",
      "Data for ENT.L saved successfully.\n",
      "Data for EXPN.L saved successfully.\n",
      "Data for EZJ.L saved successfully.\n",
      "Data for FCIT.L saved successfully.\n",
      "Data for FRES.L saved successfully.\n",
      "Data for GAW.L saved successfully.\n",
      "Data for GLEN.L saved successfully.\n",
      "Data for GSK.L saved successfully.\n",
      "Data for HIK.L saved successfully.\n",
      "Data for HLMA.L saved successfully.\n",
      "Data for HLN.L saved successfully.\n",
      "Data for HSBA.L saved successfully.\n",
      "Data for HSX.L saved successfully.\n",
      "Data for HWDN.L saved successfully.\n",
      "Data for IAG.L saved successfully.\n",
      "Data for ICG.L saved successfully.\n",
      "Data for IHG.L saved successfully.\n",
      "Data for III.L saved successfully.\n",
      "Data for IMB.L saved successfully.\n",
      "Data for IMI.L saved successfully.\n",
      "Data for INF.L saved successfully.\n",
      "Data for ITRK.L saved successfully.\n"
     ]
    },
    {
     "name": "stderr",
     "output_type": "stream",
     "text": [
      "Failed to get ticker 'JD/.L' reason: Expecting value: line 1 column 1 (char 0)\n",
      "$JD/.L: possibly delisted; no timezone found\n"
     ]
    },
    {
     "name": "stdout",
     "output_type": "stream",
     "text": [
      "No data found for JD/.L.\n",
      "Data for KGF.L saved successfully.\n",
      "Data for LAND.L saved successfully.\n",
      "Data for LGEN.L saved successfully.\n",
      "Data for LLOY.L saved successfully.\n",
      "Data for LMP.L saved successfully.\n",
      "Data for LSEG.L saved successfully.\n",
      "Data for MKS.L saved successfully.\n",
      "Data for MNDI.L saved successfully.\n",
      "Data for MNG.L saved successfully.\n",
      "Data for MRO.L saved successfully.\n"
     ]
    },
    {
     "name": "stderr",
     "output_type": "stream",
     "text": [
      "Failed to get ticker 'NG/.L' reason: Expecting value: line 1 column 1 (char 0)\n",
      "$NG/.L: possibly delisted; no timezone found\n"
     ]
    },
    {
     "name": "stdout",
     "output_type": "stream",
     "text": [
      "No data found for NG/.L.\n",
      "Data for NWG.L saved successfully.\n",
      "Data for NXT.L saved successfully.\n",
      "Data for PCT.L saved successfully.\n",
      "Data for PHNX.L saved successfully.\n",
      "Data for PRU.L saved successfully.\n",
      "Data for PSH.L saved successfully.\n",
      "Data for PSN.L saved successfully.\n",
      "Data for PSON.L saved successfully.\n",
      "Data for REL.L saved successfully.\n",
      "Data for RIO.L saved successfully.\n",
      "Data for RKT.L saved successfully.\n",
      "Data for RMV.L saved successfully.\n"
     ]
    },
    {
     "name": "stderr",
     "output_type": "stream",
     "text": [
      "Failed to get ticker 'RR/.L' reason: Expecting value: line 1 column 1 (char 0)\n",
      "$RR/.L: possibly delisted; no timezone found\n"
     ]
    },
    {
     "name": "stdout",
     "output_type": "stream",
     "text": [
      "No data found for RR/.L.\n",
      "Data for RTO.L saved successfully.\n",
      "Data for SBRY.L saved successfully.\n",
      "Data for SDR.L saved successfully.\n",
      "Data for SGE.L saved successfully.\n",
      "Data for SGRO.L saved successfully.\n",
      "Data for SHEL.L saved successfully.\n",
      "Data for SMIN.L saved successfully.\n",
      "Data for SMT.L saved successfully.\n"
     ]
    },
    {
     "name": "stderr",
     "output_type": "stream",
     "text": [
      "Failed to get ticker 'SN/.L' reason: Expecting value: line 1 column 1 (char 0)\n",
      "$SN/.L: possibly delisted; no timezone found\n"
     ]
    },
    {
     "name": "stdout",
     "output_type": "stream",
     "text": [
      "No data found for SN/.L.\n",
      "Data for SPX.L saved successfully.\n",
      "Data for SSE.L saved successfully.\n",
      "Data for STAN.L saved successfully.\n",
      "Data for STJ.L saved successfully.\n",
      "Data for SVT.L saved successfully.\n",
      "Data for TSCO.L saved successfully.\n"
     ]
    },
    {
     "name": "stderr",
     "output_type": "stream",
     "text": [
      "Failed to get ticker 'TW/.L' reason: Expecting value: line 1 column 1 (char 0)\n",
      "$TW/.L: possibly delisted; no timezone found\n"
     ]
    },
    {
     "name": "stdout",
     "output_type": "stream",
     "text": [
      "No data found for TW/.L.\n",
      "Data for ULVR.L saved successfully.\n",
      "Data for UTG.L saved successfully.\n"
     ]
    },
    {
     "name": "stderr",
     "output_type": "stream",
     "text": [
      "Failed to get ticker 'UU/.L' reason: Expecting value: line 1 column 1 (char 0)\n",
      "$UU/.L: possibly delisted; no timezone found\n"
     ]
    },
    {
     "name": "stdout",
     "output_type": "stream",
     "text": [
      "No data found for UU/.L.\n",
      "Data for VOD.L saved successfully.\n",
      "Data for WEIR.L saved successfully.\n",
      "Data for WPP.L saved successfully.\n",
      "Data for WTB.L saved successfully.\n"
     ]
    }
   ],
   "source": [
    "#1m to 1wk download\n",
    "for index_l in range(4): \n",
    "    for stock_symbol in symbol_list:\n",
    "        download_and_save_data_period(ticker=stock_symbol, interval=interval[index_l], period=period_interval[index_l], save_dir=save_dir, sleep_time=sleep_time)"
   ]
  },
  {
   "cell_type": "code",
   "execution_count": 8,
   "id": "e6a5ab97",
   "metadata": {},
   "outputs": [
    {
     "name": "stdout",
     "output_type": "stream",
     "text": [
      "done\n"
     ]
    }
   ],
   "source": [
    "print(\"done\")"
   ]
  },
  {
   "cell_type": "code",
   "execution_count": null,
   "id": "8d19e937",
   "metadata": {},
   "outputs": [],
   "source": []
  }
 ],
 "metadata": {
  "kernelspec": {
   "display_name": "Python 3",
   "language": "python",
   "name": "python3"
  },
  "language_info": {
   "codemirror_mode": {
    "name": "ipython",
    "version": 3
   },
   "file_extension": ".py",
   "mimetype": "text/x-python",
   "name": "python",
   "nbconvert_exporter": "python",
   "pygments_lexer": "ipython3",
   "version": "3.9.18"
  }
 },
 "nbformat": 4,
 "nbformat_minor": 5
}
