{
 "cells": [
  {
   "cell_type": "code",
   "execution_count": null,
   "id": "64797eda",
   "metadata": {},
   "outputs": [],
   "source": [
    "import pandas as pd\n",
    "from typing import List\n",
    "\n",
    "def analyze_time_series_from_csvs(csv_paths: List[str], window_sizes: List[int]) -> dict:\n",
    "    \"\"\"\n",
    "    For a list of CSV files, calculate the total number of time points (scalar values)\n",
    "    and the total number of univariate time series segments generated via sliding windows.\n",
    "\n",
    "    Args:\n",
    "        csv_paths (List[str]): List of CSV file paths.\n",
    "        window_sizes (List[int]): List of window sizes for sliding window segmentation.\n",
    "\n",
    "    Returns:\n",
    "        dict: Summary containing total_time_points and total_generated_series.\n",
    "    \"\"\"\n",
    "    total_time_points = 0\n",
    "    total_generated_series = 0\n",
    "\n",
    "    for csv_path in csv_paths:\n",
    "        df = pd.read_csv(csv_path)\n",
    "\n",
    "        # Drop non-numeric columns like datetime if present\n",
    "        numeric_df = df.select_dtypes(include='number')\n",
    "\n",
    "        # Sum up all scalar time points\n",
    "        total_time_points += numeric_df.size  # same as rows × columns\n",
    "\n",
    "        for col in numeric_df.columns:\n",
    "            series_len = numeric_df[col].dropna().shape[0]\n",
    "            for win_size in window_sizes:\n",
    "                # Only full windows, drop_incomplete = True\n",
    "                num_windows = max(0, series_len - win_size + 1)\n",
    "                total_generated_series += num_windows\n",
    "\n",
    "    return {\n",
    "        \"total_time_points\": total_time_points,\n",
    "        \"total_generated_series\": total_generated_series\n",
    "    }\n",
    "\n",
    "# Example usage\n",
    "\n",
    "\n"
   ]
  },
  {
   "cell_type": "code",
   "execution_count": null,
   "id": "e53c0b58",
   "metadata": {},
   "outputs": [],
   "source": [
    "csv_files = [\n",
    "    \"data/market1.csv\",\n",
    "    \"data/market2.csv\",\n",
    "    # add more files as needed\n",
    "]\n",
    "sliding_windows = [64, 128, 256]\n",
    "\n",
    "result = analyze_time_series_from_csvs(csv_files, sliding_windows)\n",
    "print(f\"Total scalar time points: {result['total_time_points']}\")\n",
    "print(f\"Total generated univariate time series segments: {result['total_generated_series']}\")"
   ]
  }
 ],
 "metadata": {
  "language_info": {
   "name": "python"
  }
 },
 "nbformat": 4,
 "nbformat_minor": 5
}
