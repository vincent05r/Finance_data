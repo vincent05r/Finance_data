{
 "cells": [
  {
   "cell_type": "code",
   "execution_count": 1,
   "id": "07bebb76",
   "metadata": {},
   "outputs": [],
   "source": [
    "import os\n",
    "import yfinance as yf\n",
    "import pandas as pd\n",
    "from datetime import datetime, timedelta\n",
    "from time import sleep\n",
    "\n",
    "from utils import *"
   ]
  },
  {
   "cell_type": "code",
   "execution_count": 2,
   "id": "b09ec790",
   "metadata": {},
   "outputs": [],
   "source": [
    "symbol_path = r'other_list\\futures_list.csv'\n",
    "symbol_path_pool = [] #store all symbols that are already downloaded\n",
    "symbol_index = -1"
   ]
  },
  {
   "cell_type": "code",
   "execution_count": 3,
   "id": "cf121aa2",
   "metadata": {},
   "outputs": [
    {
     "name": "stdout",
     "output_type": "stream",
     "text": [
      "not in the symbol_total_list \n",
      "[]\n",
      "0\n"
     ]
    }
   ],
   "source": [
    "#only put in already downloaded symbol list in here\n",
    "symbol_total_list = []\n",
    "try:\n",
    "    symbol_total_list.remove(symbol_path)\n",
    "except ValueError:\n",
    "    print(\"not in the symbol_total_list \")\n",
    "print(symbol_total_list)\n",
    "\n",
    "\n",
    "for stl_path in symbol_total_list:\n",
    "    stl_l = csv_symbol(stl_path, skip_first=True, symbol_index=symbol_index)\n",
    "    for idv_symbol in stl_l:\n",
    "        if idv_symbol not in symbol_path_pool:\n",
    "            symbol_path_pool.append(idv_symbol)\n",
    "\n",
    "print(len(symbol_path_pool))"
   ]
  },
  {
   "cell_type": "code",
   "execution_count": 4,
   "id": "4fb4205e",
   "metadata": {},
   "outputs": [
    {
     "name": "stdout",
     "output_type": "stream",
     "text": [
      "['ES=F', 'NQ=F', 'YM=F', 'RTY=F', 'CL=F', 'BZ=F', 'NG=F', 'HO=F', 'ZN=F', 'ZF=F', 'ZT=F', 'GE=F', 'GC=F', 'SI=F', 'HG=F', 'PL=F', 'ZC=F', 'ZS=F', 'ZW=F', 'KC=F', 'CT=F']\n",
      "21\n"
     ]
    }
   ],
   "source": [
    "symbol_list = []\n",
    "temp_symbol_list = csv_symbol(symbol_path, skip_first=True, symbol_index=symbol_index)\n",
    "for cur_symbol in temp_symbol_list:\n",
    "    if cur_symbol not in symbol_path_pool:\n",
    "        symbol_list.append(cur_symbol)\n",
    "print(symbol_list)\n",
    "print(len(symbol_list))"
   ]
  },
  {
   "cell_type": "code",
   "execution_count": 5,
   "id": "78c9e78e",
   "metadata": {},
   "outputs": [],
   "source": [
    "#config\n",
    "main_dir = 'futures_datasets'\n",
    "interval = ['1m', '1h', '1d', '1wk']\n",
    "list_dir = ''\n",
    "save_dir = os.path.join(main_dir, list_dir)\n",
    "#date : \"format '%Y-%m-%d'\"\n",
    "# start_date='2022-03-15'\n",
    "# end_date='2024-04-05'\n",
    "sleep_time=2 #sleep timer\n",
    "period_interval = ['8d', '730d', 'max', 'max']\n",
    "period_1m = '8d'\n",
    "period_1h = '730d'"
   ]
  },
  {
   "cell_type": "code",
   "execution_count": 6,
   "id": "1b1083ce",
   "metadata": {},
   "outputs": [
    {
     "name": "stdout",
     "output_type": "stream",
     "text": [
      "Data for ES=F saved successfully.\n",
      "Data for NQ=F saved successfully.\n",
      "Data for YM=F saved successfully.\n",
      "Data for RTY=F saved successfully.\n",
      "Data for CL=F saved successfully.\n",
      "Data for BZ=F saved successfully.\n",
      "Data for NG=F saved successfully.\n",
      "Data for HO=F saved successfully.\n",
      "Data for ZN=F saved successfully.\n",
      "Data for ZF=F saved successfully.\n",
      "Data for ZT=F saved successfully.\n"
     ]
    },
    {
     "name": "stderr",
     "output_type": "stream",
     "text": [
      "$GE=F: possibly delisted; no price data found  (period=8d)\n"
     ]
    },
    {
     "name": "stdout",
     "output_type": "stream",
     "text": [
      "No data found for GE=F.\n",
      "Data for GC=F saved successfully.\n",
      "Data for SI=F saved successfully.\n",
      "Data for HG=F saved successfully.\n",
      "Data for PL=F saved successfully.\n",
      "Data for ZC=F saved successfully.\n",
      "Data for ZS=F saved successfully.\n",
      "Data for ZW=F saved successfully.\n",
      "Data for KC=F saved successfully.\n",
      "Data for CT=F saved successfully.\n",
      "Data for ES=F saved successfully.\n",
      "Data for NQ=F saved successfully.\n",
      "Data for YM=F saved successfully.\n",
      "Data for RTY=F saved successfully.\n",
      "Data for CL=F saved successfully.\n",
      "Data for BZ=F saved successfully.\n",
      "Data for NG=F saved successfully.\n",
      "Data for HO=F saved successfully.\n",
      "Data for ZN=F saved successfully.\n",
      "Data for ZF=F saved successfully.\n",
      "Data for ZT=F saved successfully.\n",
      "Data for GE=F saved successfully.\n",
      "Data for GC=F saved successfully.\n",
      "Data for SI=F saved successfully.\n",
      "Data for HG=F saved successfully.\n",
      "Data for PL=F saved successfully.\n",
      "Data for ZC=F saved successfully.\n",
      "Data for ZS=F saved successfully.\n",
      "Data for ZW=F saved successfully.\n",
      "Data for KC=F saved successfully.\n",
      "Data for CT=F saved successfully.\n",
      "Data for ES=F saved successfully.\n",
      "Data for NQ=F saved successfully.\n",
      "Data for YM=F saved successfully.\n",
      "Data for RTY=F saved successfully.\n",
      "Data for CL=F saved successfully.\n",
      "Data for BZ=F saved successfully.\n",
      "Data for NG=F saved successfully.\n",
      "Data for HO=F saved successfully.\n",
      "Data for ZN=F saved successfully.\n",
      "Data for ZF=F saved successfully.\n",
      "Data for ZT=F saved successfully.\n",
      "Data for GE=F saved successfully.\n",
      "Data for GC=F saved successfully.\n",
      "Data for SI=F saved successfully.\n",
      "Data for HG=F saved successfully.\n",
      "Data for PL=F saved successfully.\n",
      "Data for ZC=F saved successfully.\n",
      "Data for ZS=F saved successfully.\n",
      "Data for ZW=F saved successfully.\n",
      "Data for KC=F saved successfully.\n",
      "Data for CT=F saved successfully.\n",
      "Data for ES=F saved successfully.\n",
      "Data for NQ=F saved successfully.\n",
      "Data for YM=F saved successfully.\n",
      "Data for RTY=F saved successfully.\n",
      "Data for CL=F saved successfully.\n",
      "Data for BZ=F saved successfully.\n",
      "Data for NG=F saved successfully.\n",
      "Data for HO=F saved successfully.\n",
      "Data for ZN=F saved successfully.\n",
      "Data for ZF=F saved successfully.\n",
      "Data for ZT=F saved successfully.\n",
      "Data for GE=F saved successfully.\n",
      "Data for GC=F saved successfully.\n",
      "Data for SI=F saved successfully.\n",
      "Data for HG=F saved successfully.\n",
      "Data for PL=F saved successfully.\n",
      "Data for ZC=F saved successfully.\n",
      "Data for ZS=F saved successfully.\n",
      "Data for ZW=F saved successfully.\n",
      "Data for KC=F saved successfully.\n",
      "Data for CT=F saved successfully.\n"
     ]
    }
   ],
   "source": [
    "#1m to 1wk download\n",
    "for index_l in range(4): \n",
    "    for stock_symbol in symbol_list:\n",
    "        download_and_save_data_period(ticker=stock_symbol, interval=interval[index_l], period=period_interval[index_l], save_dir=save_dir, sleep_time=sleep_time)"
   ]
  },
  {
   "cell_type": "code",
   "execution_count": 7,
   "id": "e6a5ab97",
   "metadata": {},
   "outputs": [
    {
     "name": "stdout",
     "output_type": "stream",
     "text": [
      "done\n"
     ]
    }
   ],
   "source": [
    "print(\"done\")"
   ]
  },
  {
   "cell_type": "code",
   "execution_count": null,
   "id": "8d19e937",
   "metadata": {},
   "outputs": [],
   "source": []
  }
 ],
 "metadata": {
  "kernelspec": {
   "display_name": "Python 3",
   "language": "python",
   "name": "python3"
  },
  "language_info": {
   "codemirror_mode": {
    "name": "ipython",
    "version": 3
   },
   "file_extension": ".py",
   "mimetype": "text/x-python",
   "name": "python",
   "nbconvert_exporter": "python",
   "pygments_lexer": "ipython3",
   "version": "3.9.18"
  }
 },
 "nbformat": 4,
 "nbformat_minor": 5
}
