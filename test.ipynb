{
 "cells": [
  {
   "cell_type": "code",
   "execution_count": 1,
   "id": "70ae2e13",
   "metadata": {},
   "outputs": [],
   "source": [
    "import os\n",
    "import yfinance as yf\n",
    "import pandas as pd\n",
    "from datetime import datetime, timedelta\n",
    "from time import sleep\n",
    "\n",
    "from utils import *"
   ]
  },
  {
   "cell_type": "code",
   "execution_count": 2,
   "id": "f153d5cf",
   "metadata": {},
   "outputs": [],
   "source": [
    "#config\n",
    "interval = ['1m', '1h', '1d', '1w']\n",
    "save_dir = 'nasdaq100'\n",
    "#date : \"format '%Y-%m-%d'\"\n",
    "start_date='2022-03-15'\n",
    "end_date='2024-04-05'\n",
    "sleep_time=2 #sleep timer"
   ]
  },
  {
   "cell_type": "code",
   "execution_count": 3,
   "id": "ea869ad6",
   "metadata": {},
   "outputs": [
    {
     "name": "stdout",
     "output_type": "stream",
     "text": [
      "Data for AAPL saved successfully.\n"
     ]
    }
   ],
   "source": [
    "download_and_save_data_period('AAPL', interval='1m', period='8d', save_dir=save_dir)"
   ]
  },
  {
   "cell_type": "code",
   "execution_count": 6,
   "id": "4d2f718e",
   "metadata": {},
   "outputs": [
    {
     "name": "stdout",
     "output_type": "stream",
     "text": [
      "Data for AAPL saved successfully.\n"
     ]
    }
   ],
   "source": [
    "download_and_save_data_period('AAPL', interval='1h', period='730d', save_dir=save_dir)"
   ]
  },
  {
   "cell_type": "code",
   "execution_count": 1,
   "id": "19d0b28a",
   "metadata": {},
   "outputs": [
    {
     "name": "stdout",
     "output_type": "stream",
     "text": [
      "[[1, 2, 3], [5, 6]]\n"
     ]
    }
   ],
   "source": [
    "l = []\n",
    "\n",
    "l2 = list(range(10))\n",
    "\n",
    "l.append(l2[1:4])\n",
    "l.append(l2[5:7])\n",
    "\n",
    "print(l)"
   ]
  },
  {
   "cell_type": "code",
   "execution_count": 5,
   "id": "d5b96dd5",
   "metadata": {},
   "outputs": [],
   "source": [
    "import pandas as pd\n",
    "from utils import *"
   ]
  },
  {
   "cell_type": "code",
   "execution_count": 6,
   "id": "7798aac2",
   "metadata": {},
   "outputs": [],
   "source": [
    "symbol_total_list = [r'index_consti\\constituents-nasdaq100.csv', r'index_consti\\constituents-sp500.csv', r'index_consti\\constituents-hsi.csv',\n",
    "                     r'index_consti\\constituents-csi1000.csv', r'index_consti\\constituents-dowjones.csv', r'index_consti\\constituents-ftse100.csv']"
   ]
  },
  {
   "cell_type": "code",
   "execution_count": 14,
   "id": "8cf93032",
   "metadata": {},
   "outputs": [
    {
     "name": "stdout",
     "output_type": "stream",
     "text": [
      "1201\n",
      "['AAPL', 'MSFT', 'NVDA', 'AMZN', 'AVGO']\n",
      "True\n"
     ]
    }
   ],
   "source": [
    "symbol_path_pool = []\n",
    "for stl_path in symbol_total_list:\n",
    "    stl_l = csv_symbol(stl_path, skip_first=True, symbol_index=0)\n",
    "    for idv_symbol in stl_l:\n",
    "        if idv_symbol not in symbol_path_pool:\n",
    "            symbol_path_pool.append(idv_symbol)\n",
    "\n",
    "print(len(symbol_path_pool))\n",
    "print(symbol_path_pool[:5])\n",
    "print(len(symbol_path_pool)==len(set(symbol_path_pool)))"
   ]
  },
  {
   "cell_type": "code",
   "execution_count": null,
   "id": "b719c7be",
   "metadata": {},
   "outputs": [
    {
     "name": "stdout",
     "output_type": "stream",
     "text": [
      "True\n"
     ]
    }
   ],
   "source": []
  },
  {
   "cell_type": "code",
   "execution_count": 13,
   "id": "07d8c10f",
   "metadata": {},
   "outputs": [
    {
     "name": "stdout",
     "output_type": "stream",
     "text": [
      "{'600478.SS', 'HII', 'LNT', '603043.SS', '0291.HK', 'GBPCHF=X', '603983.SS', '601333.SS', 'IAG.L', 'PDD', '301216.SZ', 'LYB', 'HWM', 'DIS', 'MCHP', 'ESS', 'HWDN.L', '688050.SS', '603323.SS', 'INVH', '688235.SS', '600277.SS', '688389.SS', 'POOL', '600273.SS', '600811.SS', '600667.SS', 'BMY', 'ES=F', 'BR', 'BX', 'LGEN.L', 'MNG.L', 'DFS', 'PKG', 'COF', 'EQIX', 'GOOG', 'SOLV', 'HSIC', 'BTC-USD', '2313.HK', 'SOL-USD', 'ETH-USD', 'AMD', 'VST', '600210.SS', '601208.SS', 'DTE', 'VMC', 'CPG.L', '601860.SS', 'LMT', 'NRG', 'ODFL', 'NZDJPY=X', '600295.SS', '601019.SS', '600366.SS', 'CPAY', 'HON', 'TW/.L', '600483.SS', '603583.SS', '603396.SS', 'ES', 'DOGE-USD', '603876.SS', 'SBUX', '603693.SS', 'IMB.L', '1099.HK', 'PL=F', 'MKC', '600490.SS', '1398.HK', 'BF.B', '603565.SS', '600776.SS', 'SLB', 'STLD', 'CCH.L', 'WYNN', 'CT=F', 'CL', '600409.SS', 'RCL', 'UPS', '600267.SS', '600783.SS', '1299.HK', 'DHI', 'BATS.L', 'DVN', '601069.SS', 'TAP', '688016.SS', '601886.SS', '600751.SS', '600116.SS', 'EURJPY=X', '600787.SS', '0388.HK', '603719.SS', 'LKQ', '603936.SS', '605020.SS', 'APTV', 'GSK.L', 'SW', 'GIS', 'GM', 'FOX', '301095.SZ', 'DUK', '688711.SS', 'GEV', 'SPG', 'STX', 'XYL', '2388.HK', 'GDDY', '600158.SS', '600550.SS', '600595.SS', 'BAB.L', 'COO', 'GBPJPY=X', '603730.SS', '603093.SS', '688133.SS', '688800.SS', 'DVA', '603919.SS', '600710.SS', '301301.SZ', '601921.SS', 'MELI', 'BRK.B', 'EURUSD=X', 'DLR', 'PCG', 'ON', 'NTAP', 'LSEG.L', 'ORLY', 'YUM', '301358.SZ', 'AUTO.L', '688789.SS', '601515.SS', 'LVS', '600252.SS', '688268.SS', 'PFG', 'SYY', '603033.SS', 'PFE', '605507.SS', '0016.HK', '601528.SS', 'ROL', 'BTRW.L', 'EVRG', '601311.SS', 'KIM', '688261.SS', '301325.SZ', 'NOC', '688322.SS', '601811.SS', '600876.SS', 'ENT.L', '600100.SS', 'PNC', '688167.SS', 'SSE.L', '600391.SS', 'SMIN.L', 'MRK', '688007.SS', 'CHTR', 'AKAM', 'WM', 'UDR', '603985.SS', '301316.SZ', 'CAH', 'SGRO.L', 'BIIB', '688408.SS', '688366.SS', '0027.HK', 'CCL', 'PSON.L', 'WDC', 'UU/.L', 'WBA', '605589.SS', '603566.SS', '601965.SS', '3968.HK', 'ENPH', 'MU', '0941.HK', 'CMS', 'EIX', 'ZF=F', 'INTU', 'KHC', 'JD/.L', 'IDXX', '601022.SS', '688270.SS', '0101.HK', '603123.SS', 'CRWD', 'TPL', '601975.SS', '600206.SS', 'EURGBP=X', '600197.SS', 'HLT', 'CARR', '0823.HK', '688351.SS', '688556.SS', '0316.HK', 'IVZ', '600761.SS', '688409.SS', 'DGE.L', 'IFF', '600929.SS', 'DOT-USD', '9618.HK', '688018.SS', 'AAPL', 'WRB', 'REG', '600151.SS', '600017.SS', '688139.SS', '0762.HK', 'CMCSA', 'HD', '600058.SS', 'AVB', 'NSC', '603718.SS', 'CTSH', 'AMZN', '9901.HK', 'KVUE', '1211.HK', 'SN/.L', '688173.SS', 'HO=F', 'NKE', '603997.SS', '603013.SS', 'STT', 'NDAQ', '301090.SZ', 'VOD.L', 'PLTR', 'CSX', '0836.HK', 'EA', 'KKR', 'BKR', '603025.SS', '688696.SS', '688388.SS', '600508.SS', 'ETN', 'PAYC', 'BNB-USD', '600586.SS', 'KMB', '2382.HK', '688508.SS', '688166.SS', '301267.SZ', 'BLK', 'PPL', '601949.SS', 'SRE', 'CDNS', '688031.SS', '603690.SS', 'TER', 'CI', '601609.SS', '600971.SS', '0066.HK', 'BKG.L', 'BXP', 'MRO.L', 'ASML', '603299.SS', '600557.SS', '301165.SZ', '688380.SS', 'APO', 'EXPE', 'PAYX', '9961.HK', '1929.HK', 'ULTA', '2319.HK', 'PHNX.L', 'AJG', '0288.HK', 'DRI', 'FICO', 'MOS', 'SHW', 'AAF.L', '0011.HK', '600641.SS', 'WAT', 'TSLA', 'TT', '603118.SS', '601702.SS', 'AWK', 'JBHT', 'EXC', 'GE=F', 'GAW.L', 'AHT.L', '0669.HK', '688596.SS', 'HPE', 'TRGP', 'WTW', 'EURCHF=X', 'RMV.L', '688339.SS', 'AVAX-USD', 'GPN', 'ICE', 'MOH', 'HG=F', 'ZC=F', '601369.SS', '688083.SS', '603236.SS', '601963.SS', 'JCI', 'RMD', '688238.SS', 'ED', 'BEZ.L', 'BARC.L', '600185.SS', 'ANTO.L', '688518.SS', 'RVTY', 'SI=F', 'FRES.L', '601330.SS', '601519.SS', 'CHRW', '688383.SS', 'VTRS', '603328.SS', 'UAL', '600612.SS', '600125.SS', '600559.SS', 'APA', '601326.SS', '603010.SS', '600888.SS', 'IT', 'ADI', 'TSCO.L', 'BBY', '0857.HK', '688019.SS', '1876.HK', 'PCAR', '601678.SS', '301207.SZ', '603728.SS', 'TJX', '688298.SS', 'AXON', 'AZO', 'BSX', 'FSLR', '600717.SS', '600648.SS', 'MKS.L', 'USDMXN=X', 'LDOS', 'PNR', 'NCLH', 'LW', '301363.SZ', '600216.SS', '600575.SS', 'AES', '605111.SS', 'KLAC', '600997.SS', 'MCO', 'MET', 'CRM', 'CPRT', '600955.SS', 'MSFT', '600201.SS', 'MNST', 'AUDJPY=X', '3690.HK', '600179.SS', 'CAD=X', '0992.HK', '2899.HK', 'NZDUSD=X', 'INF.L', '600172.SS', 'BP/.L', 'PLD', '688499.SS', '601882.SS', 'ABNB', '688048.SS', 'FANG', '603306.SS', '1997.HK', 'WBD', 'ADA-USD', '605009.SS', 'SCHW', '688106.SS', 'GILD', '603055.SS', 'CEG', '600480.SS', '603678.SS', '0175.HK', '600475.SS', 'TGT', '600691.SS', 'SMCI', 'NWSA', 'APD', '688213.SS', 'LII', '688046.SS', 'BAX', 'DECK', 'CMI', '600312.SS', 'KGF.L', '688123.SS', '688368.SS', 'XOM', 'RL', '688100.SS', '603588.SS', '301217.SZ', 'GEHC', 'DD', 'WTB.L', 'SYF', 'CBOE', 'USB', '600874.SS', 'CPT', '603179.SS', '603098.SS', '688403.SS', 'RJF', '301291.SZ', 'CVX', 'TMUS', 'JNPR', 'MMM', 'JPM', 'DDOG', 'FFIV', 'META', '600248.SS', '688198.SS', 'SNA', 'WMB', '688023.SS', '603129.SS', '600810.SS', '600452.SS', '688321.SS', '601969.SS', '603368.SS', '600313.SS', '688798.SS', 'JPY=X', 'GEN', '603171.SS', '603801.SS', '603297.SS', 'STAN.L', 'EQR', '603281.SS', 'NFLX', '1810.HK', 'SPGI', 'AV/.L', 'HUM', 'TMO', 'CCEP', '600120.SS', 'GE', 'TROW', '688776.SS', 'BZ=F', 'RTY=F', 'CFG', 'ZW=F', '600635.SS', 'CRDA.L', '603393.SS', 'COR', 'ALB', '688033.SS', '600861.SS', 'NEE', '603212.SS', 'TSN', 'BAC', '301219.SZ', 'ADP', 'T', '600771.SS', 'AME', 'F', '600993.SS', '603915.SS', '688202.SS', '605365.SS', 'PG', '301262.SZ', 'TYL', 'CAG', 'EW', '601606.SS', '600562.SS', '2331.HK', 'KC=F', 'XRP-USD', 'TRV', 'IR', 'DXCM', 'ADSK', '601890.SS', 'CME', 'USDT-USD', '600217.SS', 'CB', 'OXY', 'REL.L', '688110.SS', 'AMAT', '600657.SS', '688001.SS', 'SBAC', 'APP', 'VRTX', '688680.SS', 'BA', 'NWG.L', 'ECL', 'MCD', '603083.SS', 'LYV', '605168.SS', '688739.SS', '0002.HK', 'ISRG', 'WST', '600320.SS', 'MAA', 'AMCR', 'III.L', 'BA/.L', '600877.SS', 'ARE', 'FI', '603888.SS', '603308.SS', 'PEP', '600797.SS', '688439.SS', '688318.SS', '0005.HK', 'PWR', '601068.SS', 'ROP', '600601.SS', 'VRSN', 'TDY', 'MDLZ', '600869.SS', '600360.SS', '688239.SS', '301327.SZ', 'FDS', '688598.SS', '600284.SS', '1044.HK', 'EDV.L', 'TRMB', '600211.SS', '688131.SS', 'AMT', '600682.SS', '1038.HK', '688185.SS', 'HSBA.L', 'WELL', '0688.HK', '600012.SS', '600587.SS', 'FCX', 'URI', 'DE', '600750.SS', 'HSY', '601777.SS', '600662.SS', 'ZTS', '0003.HK', 'HCA', 'WFC', 'IBM', 'BT/A.L', '0981.HK', 'ITW', 'CHD', 'AXP', '688066.SS', '301376.SZ', 'AOS', 'HLN.L', '600502.SS', 'STJ.L', 'AZN', '605222.SS', '600618.SS', '601677.SS', 'ERIE', 'ALLE', 'CZR', '600331.SS', 'VLO', 'MO', 'COST', '601200.SS', 'ZT=F', 'OTIS', '0241.HK', '600986.SS', '600428.SS', 'MTD', '1177.HK', '603995.SS', '600246.SS', '603906.SS', '601015.SS', '600456.SS', 'SHEL.L', 'GRMN', 'SNPS', '301200.SZ', 'FOXA', '603071.SS', '600510.SS', 'COP', '603170.SS', 'FRT', 'OKE', '6618.HK', '600773.SS', 'WPP.L', 'ULVR.L', '0883.HK', 'AIG', '600645.SS', '2020.HK', 'ROST', 'WDAY', '605333.SS', 'ZBRA', 'ACGL', '601212.SS', '688152.SS', 'MRNA', 'HOLX', '600338.SS', '603298.SS', 'ARM', '600649.SS', 'PGR', '301175.SZ', 'UNP', 'MRVL', 'LULU', 'JBL', '688372.SS', '600064.SS', 'AFL', '603609.SS', '600604.SS', 'HBAN', 'LMP.L', '600688.SS', '600643.SS', '301153.SZ', '603989.SS', 'NG=F', 'V', '301268.SZ', 'KR', '600420.SS', 'CTEC.L', 'GWW', 'CBRE', 'CLX', '603279.SS', 'TECH', '600966.SS', 'CTRA', '301381.SZ', '603766.SS', 'SYK', '600072.SS', '600340.SS', 'EBAY', 'DAY', 'HRL', '688586.SS', '9999.HK', 'MAR', '600063.SS', '603713.SS', 'MLM', 'ETR', '600531.SS', 'NOW', '688128.SS', 'NVR', 'IRM', 'DAL', '605338.SS', '600037.SS', 'MSTR', '600780.SS', '603938.SS', 'CHF=X', 'LIN', 'GNRC', '688027.SS', '603087.SS', 'BRO', '601952.SS', '603612.SS', '9633.HK', 'SWK', 'WEC', '603162.SS', 'HPQ', 'RIO.L', 'HIG', 'SDR.L', '600075.SS', 'BEN', 'ABT', 'MDT', '688017.SS', 'MCK', 'ADBE', 'DGX', 'SO', '301171.SZ', 'NWS', '603871.SS', '600055.SS', 'BK', '603920.SS', 'NEM', 'EMN', 'MTB', '600812.SS', 'USDSGD=X', 'SMT.L', '688209.SS', 'RKT.L', '600449.SS', 'K', '0012.HK', '688676.SS', 'PSH.L', '603208.SS', 'APH', 'GS', '603063.SS', 'WSM', '301205.SZ', 'MNDI.L', '688630.SS', '600395.SS', '600903.SS', 'PH', 'HUBB', 'EPAM', '601869.SS', 'CNP', 'NTRS', '3988.HK', 'SJM', '688660.SS', 'CF', '603100.SS', '688700.SS', '688327.SS', 'MAS', '688192.SS', '1209.HK', 'PARA', 'BALL', 'IPG', 'ALW.L', '688315.SS', '603103.SS', 'AEP', 'TTWO', 'PSN.L', '600775.SS', 'CTAS', 'GL', '603197.SS', '601279.SS', '0939.HK', '600163.SS', 'MMC', 'GLEN.L', 'MKTX', 'RTX', '600596.SS', 'TEL', '600363.SS', '688686.SS', '603477.SS', 'LUV', 'GD', '601718.SS', 'VTR', 'KO', 'PRU.L', 'LAND.L', 'HLMA.L', 'CHFJPY=X', 'UBER', '603979.SS', '603027.SS', '600864.SS', '688266.SS', 'CVS', 'TXT', 'NQ=F', 'AMGN', '600711.SS', 'ZS', 'EZJ.L', '600007.SS', 'SWKS', '600718.SS', 'EXE', '600602.SS', 'NXPI', '603595.SS', '688400.SS', '603599.SS', '603108.SS', '600782.SS', '600169.SS', 'USDSEK=X', '688088.SS', 'RF', 'KDP', '600908.SS', '9888.HK', '600458.SS', 'EQT', 'CAT', '603229.SS', '600639.SS', '600259.SS', '600123.SS', '600610.SS', '601908.SS', '600933.SS', '600835.SS', '600572.SS', 'STE', '601163.SS', 'HAL', '601126.SS', 'MPWR', '600006.SS', '688639.SS', 'HES', '601399.SS', 'IP', '600305.SS', '688559.SS', 'EXPD', '688232.SS', 'PSX', '301177.SZ', 'LLY', '688568.SS', 'DPZ', '6862.HK', 'AON', '600446.SS', 'BKNG', 'UHS', 'MPC', 'KEYS', '600770.SS', 'SGE.L', '301367.SZ', 'KMI', '601222.SS', 'L', '600556.SS', 'FTNT', '688707.SS', '601375.SS', 'DHR', '600623.SS', '600996.SS', '688091.SS', '0006.HK', '600777.SS', 'XEL', '600459.SS', '600507.SS', 'LRCX', 'TSCO', '301246.SZ', '688037.SS', '603348.SS', '601619.SS', 'SVT.L', 'TEAM', '600138.SS', '603896.SS', '1928.HK', 'UTG.L', 'DLTR', 'O', 'MDB', 'AUDUSD=X', '603666.SS', 'JNJ', 'VZ', 'VICI', 'ALGN', '603132.SS', 'JKHY', '603699.SS', 'MHK', 'LEN', '600577.SS', 'WY', 'CDW', '0322.HK', 'AIZ', '603636.SS', 'EG', '603877.SS', '600285.SS', '600496.SS', '1378.HK', 'BDX', '603505.SS', 'MS', '688127.SS', 'IHG.L', 'VRSK', 'ZBH', 'BLDR', 'MSCI', '3692.HK', '603128.SS', '601101.SS', '301286.SZ', 'HSX.L', 'ADM', '688333.SS', '601801.SS', 'NXT.L', 'AAL.L', '600976.SS', 'GPC', 'EL', 'FIS', 'USDNOK=X', 'SBRY.L', 'ATO', 'BNZL.L', 'RR/.L', '603638.SS', '600098.SS', 'DOW', 'EURAUD=X', 'ORCL', '600963.SS', 'PANW', 'HAS', 'CCEP.L', '0001.HK', '1024.HK', '605376.SS', '603300.SS', '0267.HK', '600057.SS', '601918.SS', '2359.HK', 'D', '2015.HK', '600882.SS', 'NG/.L', 'AVGO', 'QCOM', 'CCI', 'HIK.L', 'EMR', '688578.SS', '600477.SS', 'BG', '600916.SS', '0968.HK', '688158.SS', '1113.HK', '600330.SS', 'AEE', 'SPX.L', '600850.SS', 'IMI.L', 'LLOY.L', '2269.HK', '600491.SS', 'TFC', '601137.SS', 'PNW', 'WAB', '603187.SS', '600335.SS', '600728.SS', '600059.SS', 'J', 'GC=F', 'PCT.L', 'ABBV', 'EXPN.L', '301308.SZ', '603530.SS', 'GLW', 'MSI', '600361.SS', 'MGM', 'CTVA', '2688.HK', 'TDG', '603466.SS', '688608.SS', '688326.SS', '600110.SS', '688262.SS', 'PEG', '0960.HK', 'INCY', '603113.SS', '603363.SS', 'NI', 'CSCO', '600720.SS', 'VLTO', 'ANSS', '600552.SS', 'CL=F', '688161.SS', '6690.HK', '603032.SS', '688392.SS', '688381.SS', 'A', 'ELV', 'WEIR.L', '600266.SS', '600422.SS', '600621.SS', 'CNC', 'ZN=F', 'C', '603881.SS', '600675.SS', '600578.SS', '688733.SS', 'EOG', '603105.SS', 'OMC', '603005.SS', '1093.HK', 'ROK', '600225.SS', '600821.SS', 'STZ', 'GOOGL', '301293.SZ', 'TTD', 'FAST', '600872.SS', '603057.SS', '301239.SZ', '9988.HK', '603567.SS', 'RSG', 'PODD', '688526.SS', 'HST', 'PYPL', '601567.SS', 'DASH', 'KMX', 'NUE', '688190.SS', 'ITRK.L', 'AZN.L', 'PPG', '688289.SS', '605090.SS', '688206.SS', '688097.SS', 'CNA.L', '605369.SS', '600323.SS', 'FCIT.L', '2318.HK', '603169.SS', 'UNH', '603489.SS', 'LH', '600223.SS', '600073.SS', 'INTC', 'EFX', 'KEY', '600633.SS', 'DELL', '600403.SS', 'GBPUSD=X', '603301.SS', '600195.SS', '601858.SS', 'MA', 'MTCH', '301155.SZ', '600389.SS', 'LOW', 'PM', '603008.SS', 'ALL', 'ZS=F', 'CINF', 'PRU', 'IQV', 'ACN', '603439.SS', 'CMG', '1109.HK', 'ICG.L', 'TPR', '688275.SS', '688356.SS', '0386.HK', 'AMP', '600740.SS', '2628.HK', '600685.SS', '601028.SS', 'PSA', 'DG', 'TKO', 'RTO.L', '0868.HK', 'FTV', 'DCC.L', '600729.SS', '301180.SZ', 'NVDA', 'GFS', 'CSGP', 'ANET', '688337.SS', '601011.SS', 'NDSN', '601099.SS', 'EXR', 'DOV', '688617.SS', 'IEX', '603556.SS', '603533.SS', '301238.SZ', '605123.SS', 'CPB', 'ABF.L', 'TXN', 'FE', '600328.SS', 'DOC', 'WMT', '688278.SS', 'DPLM.L', 'PTC', '1088.HK', '0285.HK', '688116.SS', 'REGN', '600400.SS', '0700.HK', 'CRL', 'LHX', 'YM=F', 'FITB', '0881.HK', '601001.SS', '603733.SS', '600696.SS', '688575.SS', 'PHM', 'AVY', 'ADM.L', 'FDX'}\n",
      "1252\n",
      "        symbols\n",
      "0     600478.SS\n",
      "1           HII\n",
      "2           LNT\n",
      "3     603043.SS\n",
      "4       0291.HK\n",
      "...         ...\n",
      "1247  688575.SS\n",
      "1248        PHM\n",
      "1249        AVY\n",
      "1250      ADM.L\n",
      "1251        FDX\n",
      "\n",
      "[1252 rows x 1 columns]\n"
     ]
    }
   ],
   "source": [
    "import pandas as pd\n",
    "from utils import *\n",
    "import os\n",
    "\n",
    "folder_path_l = [\"index_consti\", \"other_list\"]\n",
    "\n",
    "all_symbol_set = set()\n",
    "\n",
    "ct = 0\n",
    "for folder_path in folder_path_l:\n",
    "\n",
    "    for f in os.listdir(folder_path):\n",
    "        f_path = os.path.join(folder_path, f)\n",
    "\n",
    "        symbol_index = -1 if ct == 1 else 0\n",
    "\n",
    "        f_symbols = csv_symbol(f_path, symbol_index=symbol_index)\n",
    "\n",
    "        for i in f_symbols:\n",
    "            all_symbol_set.add(i)\n",
    "\n",
    "    ct += 1 \n",
    "\n",
    "print(all_symbol_set)\n",
    "print(len(all_symbol_set))\n",
    "\n",
    "df = pd.DataFrame(all_symbol_set, columns=[\"symbols\"])\n",
    "\n",
    "print(df)\n",
    "\n",
    "df.to_csv(\"all_symbol_c.csv\", index=False)\n",
    "\n"
   ]
  },
  {
   "cell_type": "code",
   "execution_count": null,
   "id": "e0e38a3e",
   "metadata": {},
   "outputs": [],
   "source": []
  }
 ],
 "metadata": {
  "kernelspec": {
   "display_name": "Python 3",
   "language": "python",
   "name": "python3"
  },
  "language_info": {
   "codemirror_mode": {
    "name": "ipython",
    "version": 3
   },
   "file_extension": ".py",
   "mimetype": "text/x-python",
   "name": "python",
   "nbconvert_exporter": "python",
   "pygments_lexer": "ipython3",
   "version": "3.9.18"
  }
 },
 "nbformat": 4,
 "nbformat_minor": 5
}
