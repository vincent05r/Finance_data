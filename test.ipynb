{
 "cells": [
  {
   "cell_type": "code",
   "execution_count": 1,
   "id": "70ae2e13",
   "metadata": {},
   "outputs": [],
   "source": [
    "import os\n",
    "import yfinance as yf\n",
    "import pandas as pd\n",
    "from datetime import datetime, timedelta\n",
    "from time import sleep\n",
    "\n",
    "from utils import *"
   ]
  },
  {
   "cell_type": "code",
   "execution_count": 2,
   "id": "f153d5cf",
   "metadata": {},
   "outputs": [],
   "source": [
    "#config\n",
    "interval = ['1m', '1h', '1d', '1w']\n",
    "save_dir = 'nasdaq100'\n",
    "#date : \"format '%Y-%m-%d'\"\n",
    "start_date='2022-03-15'\n",
    "end_date='2024-04-05'\n",
    "sleep_time=2 #sleep timer"
   ]
  },
  {
   "cell_type": "code",
   "execution_count": 3,
   "id": "ea869ad6",
   "metadata": {},
   "outputs": [
    {
     "name": "stdout",
     "output_type": "stream",
     "text": [
      "Data for AAPL saved successfully.\n"
     ]
    }
   ],
   "source": [
    "download_and_save_data_period('AAPL', interval='1m', period='8d', save_dir=save_dir)"
   ]
  },
  {
   "cell_type": "code",
   "execution_count": 6,
   "id": "4d2f718e",
   "metadata": {},
   "outputs": [
    {
     "name": "stdout",
     "output_type": "stream",
     "text": [
      "Data for AAPL saved successfully.\n"
     ]
    }
   ],
   "source": [
    "download_and_save_data_period('AAPL', interval='1h', period='730d', save_dir=save_dir)"
   ]
  },
  {
   "cell_type": "code",
   "execution_count": 1,
   "id": "19d0b28a",
   "metadata": {},
   "outputs": [
    {
     "name": "stdout",
     "output_type": "stream",
     "text": [
      "[[1, 2, 3], [5, 6]]\n"
     ]
    }
   ],
   "source": [
    "l = []\n",
    "\n",
    "l2 = list(range(10))\n",
    "\n",
    "l.append(l2[1:4])\n",
    "l.append(l2[5:7])\n",
    "\n",
    "print(l)"
   ]
  },
  {
   "cell_type": "code",
   "execution_count": 5,
   "id": "d5b96dd5",
   "metadata": {},
   "outputs": [],
   "source": [
    "import pandas as pd\n",
    "from utils import *"
   ]
  },
  {
   "cell_type": "code",
   "execution_count": 6,
   "id": "7798aac2",
   "metadata": {},
   "outputs": [],
   "source": [
    "symbol_total_list = [r'index_consti\\constituents-nasdaq100.csv', r'index_consti\\constituents-sp500.csv', r'index_consti\\constituents-hsi.csv',\n",
    "                     r'index_consti\\constituents-csi1000.csv', r'index_consti\\constituents-dowjones.csv', r'index_consti\\constituents-ftse100.csv']"
   ]
  },
  {
   "cell_type": "code",
   "execution_count": 14,
   "id": "8cf93032",
   "metadata": {},
   "outputs": [
    {
     "name": "stdout",
     "output_type": "stream",
     "text": [
      "1201\n",
      "['AAPL', 'MSFT', 'NVDA', 'AMZN', 'AVGO']\n",
      "True\n"
     ]
    }
   ],
   "source": [
    "symbol_path_pool = []\n",
    "for stl_path in symbol_total_list:\n",
    "    stl_l = csv_symbol(stl_path, skip_first=True, symbol_index=0)\n",
    "    for idv_symbol in stl_l:\n",
    "        if idv_symbol not in symbol_path_pool:\n",
    "            symbol_path_pool.append(idv_symbol)\n",
    "\n",
    "print(len(symbol_path_pool))\n",
    "print(symbol_path_pool[:5])\n",
    "print(len(symbol_path_pool)==len(set(symbol_path_pool)))"
   ]
  },
  {
   "cell_type": "code",
   "execution_count": null,
   "id": "b719c7be",
   "metadata": {},
   "outputs": [
    {
     "name": "stdout",
     "output_type": "stream",
     "text": [
      "True\n"
     ]
    }
   ],
   "source": []
  },
  {
   "cell_type": "code",
   "execution_count": null,
   "id": "07d8c10f",
   "metadata": {},
   "outputs": [],
   "source": []
  }
 ],
 "metadata": {
  "kernelspec": {
   "display_name": "Python 3",
   "language": "python",
   "name": "python3"
  },
  "language_info": {
   "codemirror_mode": {
    "name": "ipython",
    "version": 3
   },
   "file_extension": ".py",
   "mimetype": "text/x-python",
   "name": "python",
   "nbconvert_exporter": "python",
   "pygments_lexer": "ipython3",
   "version": "3.9.18"
  }
 },
 "nbformat": 4,
 "nbformat_minor": 5
}
