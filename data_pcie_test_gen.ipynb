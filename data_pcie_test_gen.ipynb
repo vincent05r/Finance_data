{
 "cells": [
  {
   "cell_type": "code",
   "execution_count": 7,
   "id": "bddb2c8d",
   "metadata": {},
   "outputs": [],
   "source": [
    "import os\n",
    "import pandas as pd\n",
    "from typing import List"
   ]
  },
  {
   "cell_type": "code",
   "execution_count": 8,
   "id": "52086182",
   "metadata": {},
   "outputs": [],
   "source": [
    "def process_csv_files(\n",
    "    csv_file_list: List[str],\n",
    "    output_dir: str,\n",
    "    test_ratio: float = 0.2,\n",
    "    drop_columns: List[str] = [],\n",
    "    date_column: str = \"date\"  # Name of the original date column\n",
    "):\n",
    "    \"\"\"\n",
    "    Processes a list of CSV files:\n",
    "    - Extracts last n% rows as test set.\n",
    "    - Drops specified columns.\n",
    "    - Renames date column to 'Datetime'.\n",
    "    - Saves the output to the given directory.\n",
    "\n",
    "    Args:\n",
    "        csv_file_list (List[str]): Paths to CSV files.\n",
    "        output_dir (str): Directory where processed files are saved.\n",
    "        test_ratio (float): Fraction of each CSV to be used as test set.\n",
    "        drop_columns (List[str]): Columns to drop.\n",
    "        date_column (str): Column to rename to 'Datetime'.\n",
    "    \"\"\"\n",
    "    os.makedirs(output_dir, exist_ok=True)\n",
    "\n",
    "    for file_path in csv_file_list:\n",
    "        # Read CSV\n",
    "        df = pd.read_csv(file_path)\n",
    "\n",
    "        # Compute split index\n",
    "        test_size = int(len(df) * test_ratio)\n",
    "        test_df = df.iloc[-test_size:].copy()\n",
    "\n",
    "        # Drop specified columns\n",
    "        test_df.drop(columns=drop_columns, inplace=True, errors='ignore')\n",
    "\n",
    "        # Rename date column to 'Datetime'\n",
    "        if date_column in test_df.columns:\n",
    "            test_df.rename(columns={date_column: 'Datetime'}, inplace=True)\n",
    "\n",
    "        # Output path\n",
    "        base_name = os.path.basename(file_path).split('.')[0]\n",
    "        output_path = os.path.join(output_dir, f\"test_{base_name}_1d.csv\")\n",
    "\n",
    "        # Save\n",
    "        test_df.to_csv(output_path, index=False)\n",
    "        print(f\"Saved: {output_path}\")\n",
    "\n"
   ]
  },
  {
   "cell_type": "code",
   "execution_count": 9,
   "id": "9930a44f",
   "metadata": {},
   "outputs": [],
   "source": [
    "def find_files_with_suffix(directory: str, suffix: str) -> List[str]:\n",
    "    \"\"\"\n",
    "    Recursively traverse the given directory to find all files ending with `suffix`.\n",
    "\n",
    "    Args:\n",
    "        directory (str): Path to the directory where the search should begin.\n",
    "        suffix (str): File suffix (e.g., \".csv\", \".txt\") to filter by.\n",
    "\n",
    "    Returns:\n",
    "        List[str]: List of full file paths that match the given suffix.\n",
    "    \"\"\"\n",
    "    matched_files = []\n",
    "    for root, dirs, files in os.walk(directory):\n",
    "        dirs.sort()   # Ensures deterministic traversal of subdirectories\n",
    "        files.sort()  # Ensures deterministic file ordering\n",
    "        for f in files:\n",
    "            if f.endswith(suffix):\n",
    "                matched_files.append(os.path.join(root, f))\n",
    "    return matched_files"
   ]
  },
  {
   "cell_type": "code",
   "execution_count": 14,
   "id": "d7e525c5",
   "metadata": {},
   "outputs": [
    {
     "name": "stdout",
     "output_type": "stream",
     "text": [
      "Saved: pcie_set/EcmP_stock_L_2005_24_testffm_pct\\test_AAPL_pct_1d.csv\n",
      "Saved: pcie_set/EcmP_stock_L_2005_24_testffm_pct\\test_AMZN_pct_1d.csv\n",
      "Saved: pcie_set/EcmP_stock_L_2005_24_testffm_pct\\test_BA_pct_1d.csv\n",
      "Saved: pcie_set/EcmP_stock_L_2005_24_testffm_pct\\test_BP_pct_1d.csv\n",
      "Saved: pcie_set/EcmP_stock_L_2005_24_testffm_pct\\test_CAT_pct_1d.csv\n",
      "Saved: pcie_set/EcmP_stock_L_2005_24_testffm_pct\\test_GE_pct_1d.csv\n",
      "Saved: pcie_set/EcmP_stock_L_2005_24_testffm_pct\\test_GOOG_pct_1d.csv\n",
      "Saved: pcie_set/EcmP_stock_L_2005_24_testffm_pct\\test_HSBC_pct_1d.csv\n",
      "Saved: pcie_set/EcmP_stock_L_2005_24_testffm_pct\\test_INTC_pct_1d.csv\n",
      "Saved: pcie_set/EcmP_stock_L_2005_24_testffm_pct\\test_LMT_pct_1d.csv\n",
      "Saved: pcie_set/EcmP_stock_L_2005_24_testffm_pct\\test_META_pct_1d.csv\n",
      "Saved: pcie_set/EcmP_stock_L_2005_24_testffm_pct\\test_MSFT_pct_1d.csv\n",
      "Saved: pcie_set/EcmP_stock_L_2005_24_testffm_pct\\test_TSM_pct_1d.csv\n",
      "Saved: pcie_set/EcmP_stock_L_2005_24_testffm_pct\\test_UPS_pct_1d.csv\n"
     ]
    }
   ],
   "source": [
    "input_dir = r\"pcie_set\\EcmP_stock_L_2005_24\"\n",
    "output_directory = r\"pcie_set/EcmP_stock_L_2005_24_testffm_pct\"\n",
    "columns_to_drop = [\"open\", \"high\", \"low\", \"close\", \"volume\", \"open_pct_change\", \"high_pct_change\", \"low_pct_change\"]\n",
    "date_col_name = \"date\"  # \n",
    "split_ratio = 1  # 100% test accoridng to pcie\n",
    "\n",
    "csv_files = find_files_with_suffix(input_dir, suffix='.csv')\n",
    "\n",
    "process_csv_files(\n",
    "    csv_file_list=csv_files,\n",
    "    output_dir=output_directory,\n",
    "    test_ratio=split_ratio,\n",
    "    drop_columns=columns_to_drop,\n",
    "    date_column=date_col_name\n",
    ")"
   ]
  },
  {
   "cell_type": "code",
   "execution_count": 13,
   "id": "1ef25988",
   "metadata": {},
   "outputs": [
    {
     "name": "stdout",
     "output_type": "stream",
     "text": [
      "done\n"
     ]
    }
   ],
   "source": [
    "print(\"done\")"
   ]
  },
  {
   "cell_type": "code",
   "execution_count": null,
   "id": "ff0f2140",
   "metadata": {},
   "outputs": [],
   "source": []
  }
 ],
 "metadata": {
  "kernelspec": {
   "display_name": "Python 3",
   "language": "python",
   "name": "python3"
  },
  "language_info": {
   "codemirror_mode": {
    "name": "ipython",
    "version": 3
   },
   "file_extension": ".py",
   "mimetype": "text/x-python",
   "name": "python",
   "nbconvert_exporter": "python",
   "pygments_lexer": "ipython3",
   "version": "3.9.18"
  }
 },
 "nbformat": 4,
 "nbformat_minor": 5
}
