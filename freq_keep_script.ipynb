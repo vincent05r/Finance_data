{
 "cells": [
  {
   "cell_type": "code",
   "execution_count": 1,
   "id": "23a89f7c",
   "metadata": {},
   "outputs": [],
   "source": [
    "import os\n",
    "import shutil\n",
    "\n",
    "def clean_frequency_dirs(root_dir: str, freq_to_keep: str) -> None:\n",
    "    \"\"\"\n",
    "    Keeps only the directories matching the specified frequency under each dataset category,\n",
    "    while preserving the overall parent directory structure.\n",
    "\n",
    "    Args:\n",
    "        root_dir (str): Path to the root directory (e.g., \"v1_no_volume\").\n",
    "        freq_to_keep (str): Frequency to retain (e.g., \"1d\").\n",
    "    \"\"\"\n",
    "    for base, dirs, _ in os.walk(root_dir):\n",
    "        # Get immediate subdirectories only\n",
    "        for sub_dir in dirs:\n",
    "            full_path = os.path.join(base, sub_dir)\n",
    "\n",
    "            # Check if sub_dir is a frequency directory\n",
    "            if sub_dir in [\"1d\", \"1h\", \"1m\", \"1wk\"]:\n",
    "                if sub_dir != freq_to_keep:\n",
    "                    print(f\"Deleting: {full_path}\")\n",
    "                    shutil.rmtree(full_path)\n",
    "\n",
    "        # Do not recurse into deleted directories\n",
    "        dirs[:] = [d for d in dirs if d == freq_to_keep or d not in [\"1d\", \"1h\", \"1m\", \"1wk\"]]\n",
    "\n",
    "\n"
   ]
  },
  {
   "cell_type": "code",
   "execution_count": 5,
   "id": "232f39f2",
   "metadata": {},
   "outputs": [
    {
     "name": "stdout",
     "output_type": "stream",
     "text": [
      "Deleting: ffm_zs_set_v1\\stock_datasets_1wk\\csi500\\1d\n",
      "Deleting: ffm_zs_set_v1\\stock_datasets_1wk\\csi500\\1h\n",
      "Deleting: ffm_zs_set_v1\\stock_datasets_1wk\\csi500\\1m\n",
      "Deleting: ffm_zs_set_v1\\stock_datasets_1wk\\ftse100\\1d\n",
      "Deleting: ffm_zs_set_v1\\stock_datasets_1wk\\ftse100\\1h\n",
      "Deleting: ffm_zs_set_v1\\stock_datasets_1wk\\ftse100\\1m\n",
      "Deleting: ffm_zs_set_v1\\stock_datasets_1wk\\hsi\\1d\n",
      "Deleting: ffm_zs_set_v1\\stock_datasets_1wk\\hsi\\1h\n",
      "Deleting: ffm_zs_set_v1\\stock_datasets_1wk\\hsi\\1m\n",
      "Deleting: ffm_zs_set_v1\\stock_datasets_1wk\\nasdaq100\\1d\n",
      "Deleting: ffm_zs_set_v1\\stock_datasets_1wk\\nasdaq100\\1h\n",
      "Deleting: ffm_zs_set_v1\\stock_datasets_1wk\\nasdaq100\\1m\n",
      "Deleting: ffm_zs_set_v1\\stock_datasets_1wk\\sp500\\1d\n",
      "Deleting: ffm_zs_set_v1\\stock_datasets_1wk\\sp500\\1h\n",
      "Deleting: ffm_zs_set_v1\\stock_datasets_1wk\\sp500\\1m\n"
     ]
    }
   ],
   "source": [
    "root_directory = r\"ffm_zs_set_v1\\stock_datasets_1wk\"  # Change this to your actual root path\n",
    "frequency_to_keep = \"1wk\"         # Specify the frequency to keep  [\"1d\", \"1h\", \"1m\", \"1wk\"]\n",
    "\n",
    "clean_frequency_dirs(root_directory, frequency_to_keep)"
   ]
  },
  {
   "cell_type": "code",
   "execution_count": null,
   "id": "66355d64",
   "metadata": {},
   "outputs": [],
   "source": []
  }
 ],
 "metadata": {
  "kernelspec": {
   "display_name": "Python 3",
   "language": "python",
   "name": "python3"
  },
  "language_info": {
   "codemirror_mode": {
    "name": "ipython",
    "version": 3
   },
   "file_extension": ".py",
   "mimetype": "text/x-python",
   "name": "python",
   "nbconvert_exporter": "python",
   "pygments_lexer": "ipython3",
   "version": "3.9.18"
  }
 },
 "nbformat": 4,
 "nbformat_minor": 5
}
