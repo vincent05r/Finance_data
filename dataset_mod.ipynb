{
 "cells": [
  {
   "cell_type": "code",
   "execution_count": null,
   "id": "c100b8cc",
   "metadata": {},
   "outputs": [],
   "source": [
    "import os\n",
    "import pandas as pd"
   ]
  },
  {
   "cell_type": "code",
   "execution_count": null,
   "id": "cd0993a2",
   "metadata": {},
   "outputs": [],
   "source": [
    "def drop_columns_in_csvs(root_dir, columns_to_drop):\n",
    "    \"\"\"\n",
    "    Recursively traverses all subdirectories of root_dir, processes each CSV file found by\n",
    "    dropping the specified columns in-place.\n",
    "\n",
    "    Parameters:\n",
    "    - root_dir: str, path to the root directory.\n",
    "    - columns_to_drop: list of str, column names to drop.\n",
    "    \"\"\"\n",
    "    for dirpath, _, filenames in os.walk(root_dir):\n",
    "        for filename in filenames:\n",
    "            if filename.endswith('.csv'):\n",
    "                file_path = os.path.join(dirpath, filename)\n",
    "                try:\n",
    "                    # Load CSV\n",
    "                    df = pd.read_csv(file_path)\n",
    "\n",
    "                    # Drop columns that exist in the DataFrame\n",
    "                    cols_in_df = [col for col in columns_to_drop if col in df.columns]\n",
    "                    if cols_in_df:\n",
    "                        df.drop(columns=cols_in_df, inplace=True)\n",
    "                        # Save back to the same file\n",
    "                        df.to_csv(file_path, index=False)\n",
    "                        print(f\"Updated: {file_path} - Dropped columns: {cols_in_df}\")\n",
    "                    else:\n",
    "                        print(f\"Skipped: {file_path} - No matching columns to drop.\")\n",
    "\n",
    "                except Exception as e:\n",
    "                    print(f\"Error processing {file_path}: {e}\")\n",
    "\n"
   ]
  },
  {
   "cell_type": "code",
   "execution_count": null,
   "id": "253f2f41",
   "metadata": {},
   "outputs": [],
   "source": [
    "\n",
    "# Example usage\n",
    "directory_path = r\"v1_no_volume\"  # Replace this with the actual path\n",
    "columns_to_remove = [\"Volume\"]   # Replace with your target column names\n",
    "drop_columns_in_csvs(directory_path, columns_to_remove)"
   ]
  },
  {
   "cell_type": "code",
   "execution_count": null,
   "id": "3a4a5e36",
   "metadata": {},
   "outputs": [],
   "source": [
    "print(\"done\")"
   ]
  },
  {
   "cell_type": "code",
   "execution_count": null,
   "id": "025cf4be",
   "metadata": {},
   "outputs": [],
   "source": [
    "print(\"done\")"
   ]
  },
  {
   "cell_type": "code",
   "execution_count": null,
   "id": "ec0d3e48",
   "metadata": {},
   "outputs": [],
   "source": []
  }
 ],
 "metadata": {
  "kernelspec": {
   "display_name": "Python 3",
   "language": "python",
   "name": "python3"
  },
  "language_info": {
   "codemirror_mode": {
    "name": "ipython",
    "version": 3
   },
   "file_extension": ".py",
   "mimetype": "text/x-python",
   "name": "python",
   "nbconvert_exporter": "python",
   "pygments_lexer": "ipython3",
   "version": "3.9.18"
  }
 },
 "nbformat": 4,
 "nbformat_minor": 5
}
