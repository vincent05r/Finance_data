{
 "cells": [
  {
   "cell_type": "code",
   "execution_count": 1,
   "id": "07bebb76",
   "metadata": {},
   "outputs": [],
   "source": [
    "import os\n",
    "import yfinance as yf\n",
    "import pandas as pd\n",
    "from datetime import datetime, timedelta\n",
    "from time import sleep\n",
    "\n",
    "from utils import *"
   ]
  },
  {
   "cell_type": "code",
   "execution_count": 2,
   "id": "b09ec790",
   "metadata": {},
   "outputs": [],
   "source": [
    "symbol_path = r'index_consti\\constituents-nasdaq100.csv'\n",
    "symbol_path_pool = [] #store all symbols that are already downloaded"
   ]
  },
  {
   "cell_type": "code",
   "execution_count": 3,
   "id": "cf121aa2",
   "metadata": {},
   "outputs": [
    {
     "name": "stdout",
     "output_type": "stream",
     "text": [
      "not in the symbol_total_list \n",
      "[]\n",
      "0\n"
     ]
    }
   ],
   "source": [
    "#only put in already downloaded symbol list in here\n",
    "\n",
    "symbol_total_list = []\n",
    "try:\n",
    "    symbol_total_list.remove(symbol_path)\n",
    "except ValueError:\n",
    "    print(\"not in the symbol_total_list \")\n",
    "print(symbol_total_list)\n",
    "\n",
    "\n",
    "for stl_path in symbol_total_list:\n",
    "    stl_l = csv_symbol(stl_path, skip_first=True, symbol_index=0)\n",
    "    for idv_symbol in stl_l:\n",
    "        if idv_symbol not in symbol_path_pool:\n",
    "            symbol_path_pool.append(idv_symbol)\n",
    "\n",
    "print(len(symbol_path_pool))"
   ]
  },
  {
   "cell_type": "code",
   "execution_count": 4,
   "id": "4fb4205e",
   "metadata": {},
   "outputs": [
    {
     "name": "stdout",
     "output_type": "stream",
     "text": [
      "['AAPL', 'MSFT', 'NVDA', 'AMZN', 'AVGO', 'META', 'COST', 'NFLX', 'TSLA', 'GOOGL', 'GOOG', 'TMUS', 'CSCO', 'LIN', 'PEP', 'PLTR', 'ISRG', 'QCOM', 'ADBE', 'INTU', 'AMD', 'AMGN', 'TXN', 'BKNG', 'GILD', 'CMCSA', 'HON', 'VRTX', 'ADP', 'AMAT', 'PANW', 'SBUX', 'MELI', 'ADI', 'MU', 'INTC', 'LRCX', 'KLAC', 'MDLZ', 'APP', 'CRWD', 'CTAS', 'ORLY', 'PDD', 'FTNT', 'DASH', 'CDNS', 'MSTR', 'REGN', 'SNPS', 'MAR', 'PYPL', 'CEG', 'ROP', 'ASML', 'AEP', 'MNST', 'ADSK', 'CSX', 'PAYX', 'MRVL', 'CPRT', 'CHTR', 'ABNB', 'WDAY', 'PCAR', 'NXPI', 'KDP', 'FANG', 'EXC', 'FAST', 'AZN', 'BKR', 'ROST', 'VRSK', 'AXON', 'XEL', 'CCEP', 'CTSH', 'EA', 'TTWO', 'GEHC', 'KHC', 'TEAM', 'ODFL', 'LULU', 'IDXX', 'CSGP', 'DDOG', 'ZS', 'ANSS', 'DXCM', 'MCHP', 'WBD', 'TTD', 'CDW', 'GFS', 'BIIB', 'ON', 'ARM', 'MDB']\n",
      "101\n"
     ]
    }
   ],
   "source": [
    "symbol_list = []\n",
    "temp_symbol_list = csv_symbol(symbol_path, skip_first=True, symbol_index=0)\n",
    "for cur_symbol in temp_symbol_list:\n",
    "    if cur_symbol not in symbol_path_pool:\n",
    "        symbol_list.append(cur_symbol)\n",
    "print(symbol_list)\n",
    "print(len(symbol_list))"
   ]
  },
  {
   "cell_type": "code",
   "execution_count": 5,
   "id": "78c9e78e",
   "metadata": {},
   "outputs": [],
   "source": [
    "#config\n",
    "main_dir = 'stock_datasets'\n",
    "interval = ['1m', '1h', '1d', '1w']\n",
    "list_dir = 'nasdaq100'\n",
    "save_dir = os.path.join(main_dir, list_dir)\n",
    "#date : \"format '%Y-%m-%d'\"\n",
    "start_date='2022-03-15'\n",
    "end_date='2024-04-05'\n",
    "sleep_time=2 #sleep timer\n",
    "period_1m = '8d'\n",
    "period_1h = '730d'"
   ]
  },
  {
   "cell_type": "code",
   "execution_count": null,
   "id": "1b1083ce",
   "metadata": {},
   "outputs": [
    {
     "name": "stdout",
     "output_type": "stream",
     "text": [
      "Data for AAPL saved successfully.\n",
      "Data for MSFT saved successfully.\n",
      "Data for NVDA saved successfully.\n",
      "Data for AMZN saved successfully.\n"
     ]
    }
   ],
   "source": [
    "#1m download\n",
    "for stock_symbol in symbol_list:\n",
    "    download_and_save_data_period(ticker=stock_symbol, interval=interval[1], period=period_1m, save_dir=save_dir, sleep_time=sleep_time)"
   ]
  },
  {
   "cell_type": "code",
   "execution_count": null,
   "id": "e6a5ab97",
   "metadata": {},
   "outputs": [],
   "source": []
  }
 ],
 "metadata": {
  "kernelspec": {
   "display_name": "Python 3",
   "language": "python",
   "name": "python3"
  },
  "language_info": {
   "codemirror_mode": {
    "name": "ipython",
    "version": 3
   },
   "file_extension": ".py",
   "mimetype": "text/x-python",
   "name": "python",
   "nbconvert_exporter": "python",
   "pygments_lexer": "ipython3",
   "version": "3.9.18"
  }
 },
 "nbformat": 4,
 "nbformat_minor": 5
}
