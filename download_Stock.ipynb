{
 "cells": [
  {
   "cell_type": "code",
   "execution_count": 1,
   "id": "07bebb76",
   "metadata": {},
   "outputs": [],
   "source": [
    "import os\n",
    "import yfinance as yf\n",
    "import pandas as pd\n",
    "from datetime import datetime, timedelta\n",
    "from time import sleep\n",
    "\n",
    "from utils import *"
   ]
  },
  {
   "cell_type": "code",
   "execution_count": 2,
   "id": "4fb4205e",
   "metadata": {},
   "outputs": [
    {
     "name": "stdout",
     "output_type": "stream",
     "text": [
      "['AAPL', 'MSFT', 'NVDA', 'AMZN', 'AVGO', 'META', 'COST', 'NFLX', 'TSLA', 'GOOGL', 'GOOG', 'TMUS', 'CSCO', 'LIN', 'PEP', 'PLTR', 'ISRG', 'QCOM', 'ADBE', 'INTU', 'AMD', 'AMGN', 'TXN', 'BKNG', 'GILD', 'CMCSA', 'HON', 'VRTX', 'ADP', 'AMAT', 'PANW', 'SBUX', 'MELI', 'ADI', 'MU', 'INTC', 'LRCX', 'KLAC', 'MDLZ', 'APP', 'CRWD', 'CTAS', 'ORLY', 'PDD', 'FTNT', 'DASH', 'CDNS', 'MSTR', 'REGN', 'SNPS', 'MAR', 'PYPL', 'CEG', 'ROP', 'ASML', 'AEP', 'MNST', 'ADSK', 'CSX', 'PAYX', 'MRVL', 'CPRT', 'CHTR', 'ABNB', 'WDAY', 'PCAR', 'NXPI', 'KDP', 'FANG', 'EXC', 'FAST', 'AZN', 'BKR', 'ROST', 'VRSK', 'AXON', 'XEL', 'CCEP', 'CTSH', 'EA', 'TTWO', 'GEHC', 'KHC', 'TEAM', 'ODFL', 'LULU', 'IDXX', 'CSGP', 'DDOG', 'ZS', 'ANSS', 'DXCM', 'MCHP', 'WBD', 'TTD', 'CDW', 'GFS', 'BIIB', 'ON', 'ARM', 'MDB']\n"
     ]
    }
   ],
   "source": [
    "symbol_list = csv_symbol(r'index_consti\\constituents-nasdaq100.csv', skip_first=True, symbol_index=0)\n",
    "print(symbol_list)"
   ]
  },
  {
   "cell_type": "code",
   "execution_count": null,
   "id": "78c9e78e",
   "metadata": {},
   "outputs": [],
   "source": [
    "#config\n",
    "main_dir = 'stock_datasets'\n",
    "interval = ['1m', '1h', '1d', '1w']\n",
    "list_dir = 'nasdaq100'\n",
    "save_dir = os.path.join(main_dir, list_dir)\n",
    "#date : \"format '%Y-%m-%d'\"\n",
    "start_date='2022-03-15'\n",
    "end_date='2024-04-05'\n",
    "sleep_time=2 #sleep timer\n",
    "period_1m = '8d'\n",
    "period_1h = '730d'"
   ]
  },
  {
   "cell_type": "code",
   "execution_count": 4,
   "id": "1b1083ce",
   "metadata": {},
   "outputs": [
    {
     "name": "stdout",
     "output_type": "stream",
     "text": [
      "Data for AAPL saved successfully.\n",
      "Data for MSFT saved successfully.\n",
      "Data for NVDA saved successfully.\n",
      "Data for AMZN saved successfully.\n",
      "Data for AVGO saved successfully.\n",
      "Data for META saved successfully.\n"
     ]
    },
    {
     "ename": "KeyboardInterrupt",
     "evalue": "",
     "output_type": "error",
     "traceback": [
      "\u001b[1;31m---------------------------------------------------------------------------\u001b[0m",
      "\u001b[1;31mKeyboardInterrupt\u001b[0m                         Traceback (most recent call last)",
      "Cell \u001b[1;32mIn[4], line 3\u001b[0m\n\u001b[0;32m      1\u001b[0m \u001b[38;5;66;03m#1m download\u001b[39;00m\n\u001b[0;32m      2\u001b[0m \u001b[38;5;28;01mfor\u001b[39;00m stock_symbol \u001b[38;5;129;01min\u001b[39;00m symbol_list:\n\u001b[1;32m----> 3\u001b[0m     \u001b[43mdownload_and_save_data_period\u001b[49m\u001b[43m(\u001b[49m\u001b[43mticker\u001b[49m\u001b[38;5;241;43m=\u001b[39;49m\u001b[43mstock_symbol\u001b[49m\u001b[43m,\u001b[49m\u001b[43m \u001b[49m\u001b[43minterval\u001b[49m\u001b[38;5;241;43m=\u001b[39;49m\u001b[38;5;124;43m'\u001b[39;49m\u001b[38;5;124;43m1m\u001b[39;49m\u001b[38;5;124;43m'\u001b[39;49m\u001b[43m,\u001b[49m\u001b[43m \u001b[49m\u001b[43mperiod\u001b[49m\u001b[38;5;241;43m=\u001b[39;49m\u001b[43mperiod_1m\u001b[49m\u001b[43m,\u001b[49m\u001b[43m \u001b[49m\u001b[43msave_dir\u001b[49m\u001b[38;5;241;43m=\u001b[39;49m\u001b[43msave_dir\u001b[49m\u001b[43m,\u001b[49m\u001b[43m \u001b[49m\u001b[43msleep_time\u001b[49m\u001b[38;5;241;43m=\u001b[39;49m\u001b[43msleep_time\u001b[49m\u001b[43m)\u001b[49m\n",
      "File \u001b[1;32mc:\\github\\Finance_data\\utils.py:62\u001b[0m, in \u001b[0;36mdownload_and_save_data_period\u001b[1;34m(ticker, interval, period, save_dir, sleep_time, drop_last, drop_NA)\u001b[0m\n\u001b[0;32m     60\u001b[0m     \u001b[38;5;28mprint\u001b[39m(\u001b[38;5;124mf\u001b[39m\u001b[38;5;124m\"\u001b[39m\u001b[38;5;124mError downloading data for \u001b[39m\u001b[38;5;132;01m{\u001b[39;00mticker\u001b[38;5;132;01m}\u001b[39;00m\u001b[38;5;124m: \u001b[39m\u001b[38;5;132;01m{\u001b[39;00me\u001b[38;5;132;01m}\u001b[39;00m\u001b[38;5;124m\"\u001b[39m)\n\u001b[0;32m     61\u001b[0m \u001b[38;5;66;03m# Sleep to respect rate limits\u001b[39;00m\n\u001b[1;32m---> 62\u001b[0m \u001b[43msleep\u001b[49m\u001b[43m(\u001b[49m\u001b[43msleep_time\u001b[49m\u001b[43m)\u001b[49m\n",
      "\u001b[1;31mKeyboardInterrupt\u001b[0m: "
     ]
    }
   ],
   "source": [
    "#1m download\n",
    "for stock_symbol in symbol_list:\n",
    "    download_and_save_data_period(ticker=stock_symbol, interval='1m', period=period_1m, save_dir=save_dir, sleep_time=sleep_time)"
   ]
  },
  {
   "cell_type": "code",
   "execution_count": null,
   "id": "e6a5ab97",
   "metadata": {},
   "outputs": [],
   "source": []
  }
 ],
 "metadata": {
  "kernelspec": {
   "display_name": "Python 3",
   "language": "python",
   "name": "python3"
  },
  "language_info": {
   "codemirror_mode": {
    "name": "ipython",
    "version": 3
   },
   "file_extension": ".py",
   "mimetype": "text/x-python",
   "name": "python",
   "nbconvert_exporter": "python",
   "pygments_lexer": "ipython3",
   "version": "3.9.18"
  }
 },
 "nbformat": 4,
 "nbformat_minor": 5
}
