{
 "cells": [
  {
   "cell_type": "code",
   "execution_count": 1,
   "id": "07bebb76",
   "metadata": {},
   "outputs": [],
   "source": [
    "import os\n",
    "import yfinance as yf\n",
    "import pandas as pd\n",
    "from datetime import datetime, timedelta\n",
    "from time import sleep\n",
    "\n",
    "from utils import *"
   ]
  },
  {
   "cell_type": "code",
   "execution_count": 3,
   "id": "4fb4205e",
   "metadata": {},
   "outputs": [
    {
     "name": "stdout",
     "output_type": "stream",
     "text": [
      "['AAPL', 'MSFT', 'NVDA', 'AMZN', 'AVGO', 'META', 'COST', 'NFLX', 'TSLA', 'GOOGL', 'GOOG', 'TMUS', 'CSCO', 'LIN', 'PEP', 'PLTR', 'ISRG', 'QCOM', 'ADBE', 'INTU', 'AMD', 'AMGN', 'TXN', 'BKNG', 'GILD', 'CMCSA', 'HON', 'VRTX', 'ADP', 'AMAT', 'PANW', 'SBUX', 'MELI', 'ADI', 'MU', 'INTC', 'LRCX', 'KLAC', 'MDLZ', 'APP', 'CRWD', 'CTAS', 'ORLY', 'PDD', 'FTNT', 'DASH', 'CDNS', 'MSTR', 'REGN', 'SNPS', 'MAR', 'PYPL', 'CEG', 'ROP', 'ASML', 'AEP', 'MNST', 'ADSK', 'CSX', 'PAYX', 'MRVL', 'CPRT', 'CHTR', 'ABNB', 'WDAY', 'PCAR', 'NXPI', 'KDP', 'FANG', 'EXC', 'FAST', 'AZN', 'BKR', 'ROST', 'VRSK', 'AXON', 'XEL', 'CCEP', 'CTSH', 'EA', 'TTWO', 'GEHC', 'KHC', 'TEAM', 'ODFL', 'LULU', 'IDXX', 'CSGP', 'DDOG', 'ZS', 'ANSS', 'DXCM', 'MCHP', 'WBD', 'TTD', 'CDW', 'GFS', 'BIIB', 'ON', 'ARM', 'MDB']\n"
     ]
    }
   ],
   "source": [
    "symbol_list = csv_symbol(r'index_consti\\constituents-nasdaq100.csv', skip_first=True, symbol_index=0)\n",
    "print(symbol_list)"
   ]
  },
  {
   "cell_type": "code",
   "execution_count": 4,
   "id": "78c9e78e",
   "metadata": {},
   "outputs": [],
   "source": [
    "#config\n",
    "interval = ['1m', '1h', '1d', '1w']\n",
    "save_dir = 'nasdaq100'\n",
    "#date : \"format '%Y-%m-%d'\"\n",
    "start_date='2022-03-15'\n",
    "end_date='2024-04-05'\n",
    "sleep_time=2 #sleep timer"
   ]
  },
  {
   "cell_type": "code",
   "execution_count": 17,
   "id": "1b1083ce",
   "metadata": {},
   "outputs": [
    {
     "name": "stderr",
     "output_type": "stream",
     "text": [
      "\n",
      "1 Failed download:\n",
      "['AAPL']: Exception('%ticker%: No price data found, symbol may be delisted (1d 2024-03-15 -> 2024-04-05)')\n"
     ]
    },
    {
     "name": "stdout",
     "output_type": "stream",
     "text": [
      "No data found for AAPL.\n"
     ]
    }
   ],
   "source": [
    "#1m download\n",
    "for stock_symbol in symbol_list:\n",
    "    download_and_save_data('AAPL', '1d', start_date=start_date, end_date=end_date, save_dir=save_dir, sleep_time=sleep_time)\n",
    "    break"
   ]
  },
  {
   "cell_type": "code",
   "execution_count": 11,
   "id": "28787820",
   "metadata": {},
   "outputs": [
    {
     "name": "stderr",
     "output_type": "stream",
     "text": [
      "[*********************100%***********************]  1 of 1 completed\n"
     ]
    }
   ],
   "source": [
    "data = yf.download('MSFT', interval='1d', start=start_date, end=end_date)"
   ]
  },
  {
   "cell_type": "code",
   "execution_count": 12,
   "id": "0dd6bff4",
   "metadata": {},
   "outputs": [],
   "source": [
    "data.to_csv('test1.csv')\n"
   ]
  },
  {
   "cell_type": "code",
   "execution_count": null,
   "id": "50de2fe9",
   "metadata": {},
   "outputs": [],
   "source": []
  }
 ],
 "metadata": {
  "kernelspec": {
   "display_name": "Python 3",
   "language": "python",
   "name": "python3"
  },
  "language_info": {
   "codemirror_mode": {
    "name": "ipython",
    "version": 3
   },
   "file_extension": ".py",
   "mimetype": "text/x-python",
   "name": "python",
   "nbconvert_exporter": "python",
   "pygments_lexer": "ipython3",
   "version": "3.9.18"
  }
 },
 "nbformat": 4,
 "nbformat_minor": 5
}
